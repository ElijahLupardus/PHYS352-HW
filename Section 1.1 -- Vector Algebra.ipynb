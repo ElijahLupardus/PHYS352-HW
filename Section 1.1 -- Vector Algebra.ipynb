{
 "cells": [
  {
   "cell_type": "markdown",
   "metadata": {},
   "source": [
    "This notebook contains solutions to examples and problems from Griffiths E&M section 1.1 on vector algebra using `sympy`."
   ]
  },
  {
   "cell_type": "code",
   "execution_count": 1,
   "metadata": {
    "collapsed": true
   },
   "outputs": [],
   "source": [
    "import sympy as sp\n",
    "\n",
    "sp.init_printing()"
   ]
  },
  {
   "cell_type": "markdown",
   "metadata": {},
   "source": [
    "### Griffiths Problem 1.2\n",
    "\n",
    "---\n",
    "\n",
    "Is the cross product associative? \n",
    "\n",
    "$$\\left({\\mathbf A}\\times {\\mathbf B}\\right) \\times {\\mathbf C}  \\stackrel{?}{=} \\mathbf{A} \\times \\left(\\mathbf{B}\\times\\mathbf{C}\\right)$$\n",
    "\n",
    "If so, *prove* it, if not, provide a counterexample (the simpler the better).\n",
    "\n",
    "#### Solution:\n",
    "In class we worked this out with index notation. I'll duplicate that work here. First, we will need some symbols. (I started the problem with what I knew I would need, and then added things and re-executed the cell as I went along)."
   ]
  },
  {
   "cell_type": "code",
   "execution_count": 2,
   "metadata": {
    "collapsed": true
   },
   "outputs": [],
   "source": [
    "A_i, A_j = sp.symbols('A_i A_j')\n",
    "B_j, B_k, B_l = sp.symbols('B_j B_k B_l')\n",
    "C_m, C_j, C_k = sp.symbols('C_m, C_j C_k')\n",
    "epsijk, epslim, epsklm = sp.symbols('epsilon_ijk epsilon_lim epsilon_klm')\n",
    "deltajm, deltakl, deltajl, deltakm = sp.symbols('delta_jm delta_kl delta_jl delta_km')\n",
    "deltami, deltali = sp.symbols('delta_mi delta_li')"
   ]
  },
  {
   "cell_type": "code",
   "execution_count": 3,
   "metadata": {
    "collapsed": false
   },
   "outputs": [
    {
     "data": {
      "image/png": "[encoded data removed]",
      "text/latex": [
       "$$A_{j} B_{k} C_{m} \\epsilon_{ijk} \\epsilon_{lim}$$"
      ],
      "text/plain": [
       "A_j⋅Bₖ⋅Cₘ⋅ε_ijk⋅εₗᵢₘ"
      ]
     },
     "execution_count": 3,
     "metadata": {},
     "output_type": "execute_result"
    }
   ],
   "source": [
    "lhs_1 = epsijk*A_j*B_k*epslim*C_m\n",
    "lhs_1"
   ]
  },
  {
   "cell_type": "code",
   "execution_count": 4,
   "metadata": {
    "collapsed": false
   },
   "outputs": [
    {
     "data": {
      "image/png": "[encoded data removed]",
      "text/latex": [
       "$$- A_{j} B_{k} C_{m} \\delta_{jl} \\delta_{km} + A_{j} B_{k} C_{m} \\delta_{jm} \\delta_{kl}$$"
      ],
      "text/plain": [
       "-A_j⋅Bₖ⋅Cₘ⋅δ_jl⋅δₖₘ + A_j⋅Bₖ⋅Cₘ⋅δ_jm⋅δₖₗ"
      ]
     },
     "execution_count": 4,
     "metadata": {},
     "output_type": "execute_result"
    }
   ],
   "source": [
    "lhs_2 = lhs_1.subs( epsijk*epslim, deltajm*deltakl - deltajl*deltakm).expand()\n",
    "lhs_2"
   ]
  },
  {
   "cell_type": "code",
   "execution_count": 5,
   "metadata": {
    "collapsed": false
   },
   "outputs": [
    {
     "data": {
      "image/png": "[encoded data removed]",
      "text/latex": [
       "$$A_{j} B_{k} C_{j} - A_{j} B_{k} C_{k}$$"
      ],
      "text/plain": [
       "A_j⋅Bₖ⋅C_j - A_j⋅Bₖ⋅Cₖ"
      ]
     },
     "execution_count": 5,
     "metadata": {},
     "output_type": "execute_result"
    }
   ],
   "source": [
    "lhs_3 = lhs_2.subs(deltajl*A_j, A_j).subs(deltakm*C_m, C_k).subs(deltajm*C_m, C_j).subs(deltakl*B_k, B_k)\n",
    "lhs_3"
   ]
  },
  {
   "cell_type": "markdown",
   "metadata": {},
   "source": [
    "Translating back to vector notation, this is $$\\left(\\mathbf{A}\\cdot\\mathbf{C}\\right)\\mathbf{B} - \\left(\\mathbf{B}\\cdot\\mathbf{C}\\right)\\mathbf{A}$$\n",
    "\n",
    "On the right hand side we have"
   ]
  },
  {
   "cell_type": "code",
   "execution_count": 6,
   "metadata": {
    "collapsed": false
   },
   "outputs": [
    {
     "data": {
      "image/png": "[encoded data removed]",
      "text/latex": [
       "$$A_{j} B_{l} C_{m} \\epsilon_{ijk} \\epsilon_{klm}$$"
      ],
      "text/plain": [
       "A_j⋅Bₗ⋅Cₘ⋅ε_ijk⋅εₖₗₘ"
      ]
     },
     "execution_count": 6,
     "metadata": {},
     "output_type": "execute_result"
    }
   ],
   "source": [
    "rhs_1 = epsijk*A_j*epsklm*B_l*C_m\n",
    "rhs_1"
   ]
  },
  {
   "cell_type": "code",
   "execution_count": 7,
   "metadata": {
    "collapsed": false
   },
   "outputs": [
    {
     "data": {
      "image/png": "[encoded data removed]",
      "text/latex": [
       "$$- A_{j} B_{l} C_{m} \\delta_{jl} \\delta_{mi} + A_{j} B_{l} C_{m} \\delta_{jm} \\delta_{li}$$"
      ],
      "text/plain": [
       "-A_j⋅Bₗ⋅Cₘ⋅δ_jl⋅δₘᵢ + A_j⋅Bₗ⋅Cₘ⋅δ_jm⋅δₗᵢ"
      ]
     },
     "execution_count": 7,
     "metadata": {},
     "output_type": "execute_result"
    }
   ],
   "source": [
    "rhs_2 = rhs_1.subs(epsklm*epsijk, deltali*deltajm - deltami*deltajl).expand()\n",
    "rhs_2"
   ]
  },
  {
   "cell_type": "code",
   "execution_count": 8,
   "metadata": {
    "collapsed": false
   },
   "outputs": [
    {
     "data": {
      "image/png": "[encoded data removed]",
      "text/latex": [
       "$$- A_{j} B_{j} C_{m} + A_{j} B_{l} C_{j}$$"
      ],
      "text/plain": [
       "-A_j⋅B_j⋅Cₘ + A_j⋅Bₗ⋅C_j"
      ]
     },
     "execution_count": 8,
     "metadata": {},
     "output_type": "execute_result"
    }
   ],
   "source": [
    "rhs_3 = rhs_2.subs(deltajl*B_l, B_j).subs(deltami*C_m, C_m).subs(deltajm*C_m, C_j).subs(deltali*B_l, B_l)\n",
    "rhs_3"
   ]
  },
  {
   "cell_type": "markdown",
   "metadata": {},
   "source": [
    "Again, translating back to vector notation, we have $$\\left(\\mathbf{A}\\cdot\\mathbf{C}\\right)\\mathbf{B} - \\left(\\mathbf{B}\\cdot\\mathbf{A}\\right)\\mathbf{C}$$\n",
    "\n",
    "The difference between the two sides is clearly\n",
    "$$\\left(\\mathbf{B}\\cdot\\mathbf{A}\\right)\\mathbf{C} - \\left(\\mathbf{B}\\cdot\\mathbf{C}\\right)\\mathbf{A},$$\n",
    "\n",
    "so as long as $\\mathbf{B}$ is not orthogonal to both $\\mathbf{A}$ and $\\mathbf{C}$, and $\\mathbf{A}$ and $\\mathbf{C}$ aren't the same, we should have a counterexample.  Let's calculate that out."
   ]
  },
  {
   "cell_type": "code",
   "execution_count": 9,
   "metadata": {
    "collapsed": false
   },
   "outputs": [
    {
     "data": {
      "image/png": "[encoded data removed]",
      "text/latex": [
       "$$\\mathrm{False}$$"
      ],
      "text/plain": [
       "False"
      ]
     },
     "execution_count": 9,
     "metadata": {},
     "output_type": "execute_result"
    }
   ],
   "source": [
    "from sympy import Matrix\n",
    "\n",
    "A = Matrix([[1,0,0]])\n",
    "B = Matrix([[1,0,1]])\n",
    "C = Matrix([[0,0,1]])\n",
    "\n",
    "# are the two combinations of cross products equal?\n",
    "sp.Eq(A.cross(B).cross(C), A.cross(B.cross(C)))"
   ]
  },
  {
   "cell_type": "markdown",
   "metadata": {},
   "source": [
    "### Griffiths Problem 1.4\n",
    "\n",
    "---\n",
    "\n",
    "Use the cross product to find the components of the unit vector $\\mathbf{\\hat{n}}$ perpendicular to the shaded plane in figure 1.11.\n",
    "\n",
    "#### Solution\n",
    "Make vectors out of two of the edges of the surface, then take the cross product and normalize. I'll use the point on the x-axis as the tail for both of the vectors, and use the intersections with the other two axes as the tips."
   ]
  },
  {
   "cell_type": "code",
   "execution_count": 10,
   "metadata": {
    "collapsed": false
   },
   "outputs": [
    {
     "data": {
      "image/png": "[encoded data removed]",
      "text/latex": [
       "$$\\left[\\begin{matrix}\\frac{6}{7} & \\frac{3}{7} & \\frac{2}{7}\\end{matrix}\\right]$$"
      ],
      "text/plain": [
       "[6/7  3/7  2/7]"
      ]
     },
     "execution_count": 10,
     "metadata": {},
     "output_type": "execute_result"
    }
   ],
   "source": [
    "a = sp.Matrix([[-1, 2, 0]])\n",
    "b = sp.Matrix([[-1, 0, 3]])\n",
    "\n",
    "n = a.cross(b)\n",
    "n.normalized()"
   ]
  },
  {
   "cell_type": "markdown",
   "metadata": {},
   "source": [
    "### Griffiths Problem 1.6\n",
    "---\n",
    "\n",
    "Prove that $$ \\left[\\mathbf{A}\\times\\left(\\mathbf{B}\\times\\mathbf{C}\\right)\\right] + \\left[\\mathbf{B}\\times\\left(\\mathbf{C}\\times\\mathbf{A}\\right)\\right] +\\left[\\mathbf{C}\\times\\left(\\mathbf{A}\\times\\mathbf{B}\\right)\\right] = \\mathbf{0}. $$\n",
    "\n",
    "Under what circumstances does $\\left({\\mathbf A}\\times {\\mathbf B}\\right) \\times {\\mathbf C}  = \\mathbf{A} \\times \\left(\\mathbf{B}\\times\\mathbf{C}\\right)$?\n",
    "\n",
    "#### Solution\n",
    "\n",
    "We answered the second question above in our answer to 1.2, but evidently another way of putting it is that $\\left({\\mathbf A}\\times {\\mathbf B}\\right) \\times {\\mathbf C}  = \\mathbf{A} \\times \\left(\\mathbf{B}\\times\\mathbf{C}\\right)$ when $\\left[\\mathbf{B}\\times\\left(\\mathbf{C}\\times\\mathbf{A}\\right)\\right] = \\mathbf{0}$. If that's not obvious to you, move the last term of the original expression to the other side of the equal sign, and remember that the cross product is anti-commutative.\n",
    "\n",
    "\n",
    "The first part of the question looks like it might be long and involved, but we can apply our solution to 1.2 to make things easier.\n",
    "\n",
    "I'll use the results of problem 1.2 to write a python function which, given labels, will produce the correct pieces of index notation.  Since each term has a single free index and a single repeated index, and since it doesn't matter what labels I apply to those indices, I'll use `j` for the repeated index, and `i` for the free index in both terms.\n",
    "\n",
    "Note that the inputs are *labels*, and **not** symbols. I have the function create the symbols on the fly. "
   ]
  },
  {
   "cell_type": "code",
   "execution_count": 11,
   "metadata": {
    "collapsed": true
   },
   "outputs": [],
   "source": [
    "def triplecross(A='A', B='B', C='C'):\n",
    "    \"\"\"Take three labels and return the triple cross product A\\times(B\\times C)\"\"\"\n",
    "    \n",
    "    # slice notation for symbol creation is a little bit magical.\n",
    "    Ai, Aj = sp.symbols(A + \"_i:j\")\n",
    "    Bi, Bj = sp.symbols(B + \"_i:j\")\n",
    "    Ci, Cj = sp.symbols(C + \"_i:j\")\n",
    "    \n",
    "    # from the RHS of problem 1.2, above\n",
    "    return Bi*Aj*Cj - Ci*Aj*Bj"
   ]
  },
  {
   "cell_type": "code",
   "execution_count": 12,
   "metadata": {
    "collapsed": false
   },
   "outputs": [
    {
     "data": {
      "image/png": "[encoded data removed]",
      "text/latex": [
       "$$0$$"
      ],
      "text/plain": [
       "0"
      ]
     },
     "execution_count": 12,
     "metadata": {},
     "output_type": "execute_result"
    }
   ],
   "source": [
    "triplecross('A', 'B', 'C') + triplecross('B', 'C', 'A') + triplecross('C', 'A', 'B')"
   ]
  },
  {
   "cell_type": "markdown",
   "metadata": {},
   "source": [
    "That gives us the answer, but it's a little opaque. We can look at the pairs of terms individually, though, and cross them out by ourselves if we wish:"
   ]
  },
  {
   "cell_type": "code",
   "execution_count": 13,
   "metadata": {
    "collapsed": false
   },
   "outputs": [
    {
     "data": {
      "image/png": "[encoded data removed]",
      "text/latex": [
       "$$A_{j} B_{i} C_{j} - A_{j} B_{j} C_{i}$$"
      ],
      "text/plain": [
       "A_j⋅Bᵢ⋅C_j - A_j⋅B_j⋅Cᵢ"
      ]
     },
     "execution_count": 13,
     "metadata": {},
     "output_type": "execute_result"
    }
   ],
   "source": [
    "first = triplecross('A', 'B', 'C')\n",
    "first"
   ]
  },
  {
   "cell_type": "code",
   "execution_count": 14,
   "metadata": {
    "collapsed": false
   },
   "outputs": [
    {
     "data": {
      "image/png": "[encoded data removed]",
      "text/latex": [
       "$$- A_{i} B_{j} C_{j} + A_{j} B_{j} C_{i}$$"
      ],
      "text/plain": [
       "-Aᵢ⋅B_j⋅C_j + A_j⋅B_j⋅Cᵢ"
      ]
     },
     "execution_count": 14,
     "metadata": {},
     "output_type": "execute_result"
    }
   ],
   "source": [
    "second = triplecross('B', 'C', 'A')\n",
    "second"
   ]
  },
  {
   "cell_type": "code",
   "execution_count": 15,
   "metadata": {
    "collapsed": false
   },
   "outputs": [
    {
     "data": {
      "image/png": "[encoded data removed]",
      "text/latex": [
       "$$A_{i} B_{j} C_{j} - A_{j} B_{i} C_{j}$$"
      ],
      "text/plain": [
       "Aᵢ⋅B_j⋅C_j - A_j⋅Bᵢ⋅C_j"
      ]
     },
     "execution_count": 15,
     "metadata": {},
     "output_type": "execute_result"
    }
   ],
   "source": [
    "third = triplecross('C', 'A', 'B')\n",
    "third"
   ]
  },
  {
   "cell_type": "code",
   "execution_count": 16,
   "metadata": {
    "collapsed": false
   },
   "outputs": [
    {
     "data": {
      "image/png": "[encoded data removed]",
      "text/latex": [
       "$$- A_{i} B_{j} C_{j} + A_{j} B_{i} C_{j}$$"
      ],
      "text/plain": [
       "-Aᵢ⋅B_j⋅C_j + A_j⋅Bᵢ⋅C_j"
      ]
     },
     "execution_count": 16,
     "metadata": {},
     "output_type": "execute_result"
    }
   ],
   "source": [
    "first + second"
   ]
  },
  {
   "cell_type": "code",
   "execution_count": 17,
   "metadata": {
    "collapsed": false
   },
   "outputs": [
    {
     "data": {
      "image/png": "[encoded data removed]",
      "text/latex": [
       "$$0$$"
      ],
      "text/plain": [
       "0"
      ]
     },
     "execution_count": 17,
     "metadata": {},
     "output_type": "execute_result"
    }
   ],
   "source": [
    "first + second + third"
   ]
  }
 ],
 "metadata": {
  "anaconda-cloud": {},
  "kernelspec": {
   "display_name": "Python [Root]",
   "language": "python",
   "name": "Python [Root]"
  },
  "language_info": {
   "codemirror_mode": {
    "name": "ipython",
    "version": 3
   },
   "file_extension": ".py",
   "mimetype": "text/x-python",
   "name": "python",
   "nbconvert_exporter": "python",
   "pygments_lexer": "ipython3",
   "version": "3.5.2"
  }
 },
 "nbformat": 4,
 "nbformat_minor": 2
}
