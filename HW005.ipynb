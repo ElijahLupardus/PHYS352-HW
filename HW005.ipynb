{
 "cells": [
  {
   "cell_type": "markdown",
   "metadata": {},
   "source": [
    "## Problem 2.20"
   ]
  },
  {
   "cell_type": "markdown",
   "metadata": {},
   "source": [
    "One of these is an impossible electrostatic field. Which one?"
   ]
  },
  {
   "cell_type": "markdown",
   "metadata": {},
   "source": []
  },
  {
   "cell_type": "code",
   "execution_count": 2,
   "metadata": {
    "collapsed": true
   },
   "outputs": [],
   "source": [
    "import sympy as sp\n",
    "from sympy import vector\n",
    "import math\n",
    "sp.init_printing()\n",
    "k,a,b,c = sp.symbols('k a b c')\n",
    "C = vector.CoordSys3D('', vector_names=['x', \"y\", \"z\"],\n",
    "                     variable_names=['x', \"y\", \"z\"])\n",
    "\n",
    "xhat = C.i\n",
    "yhat = C.j\n",
    "zhat = C.k\n",
    "x = C.x\n",
    "y = C.y\n",
    "z = C.z"
   ]
  },
  {
   "cell_type": "code",
   "execution_count": 2,
   "metadata": {
    "collapsed": false
   },
   "outputs": [
    {
     "data": {
      "image/png": "[encoded data removed]",
      "text/latex": [
       "$$(k \\mathbf{{x}_{}} \\mathbf{{y}_{}})\\mathbf{\\hat{x}_{}} + (2 k \\mathbf{{y}_{}} \\mathbf{{z}_{}})\\mathbf{\\hat{y}_{}} + (3 k \\mathbf{{x}_{}} \\mathbf{{z}_{}})\\mathbf{\\hat{z}_{}}$$"
      ],
      "text/plain": [
       "(k⋅_x⋅_y) _x + (2⋅k⋅_y⋅_z) _y + (3⋅k⋅_x⋅_z) _z"
      ]
     },
     "execution_count": 2,
     "metadata": {},
     "output_type": "execute_result"
    }
   ],
   "source": [
    "E1 = k*(x*y*xhat+2*y*z*yhat+3*x*z*zhat)\n",
    "E1"
   ]
  },
  {
   "cell_type": "code",
   "execution_count": 3,
   "metadata": {
    "collapsed": false
   },
   "outputs": [
    {
     "data": {
      "image/png": "[encoded data removed]",
      "text/latex": [
       "$$(- 2 k \\mathbf{{y}_{}})\\mathbf{\\hat{x}_{}} + (- 3 k \\mathbf{{z}_{}})\\mathbf{\\hat{y}_{}} + (- k \\mathbf{{x}_{}})\\mathbf{\\hat{z}_{}}$$"
      ],
      "text/plain": [
       "(-2⋅k⋅_y) _x + (-3⋅k⋅_z) _y + (-k⋅_x) _z"
      ]
     },
     "execution_count": 3,
     "metadata": {},
     "output_type": "execute_result"
    }
   ],
   "source": [
    "vector.curl(E1)"
   ]
  },
  {
   "cell_type": "code",
   "execution_count": 4,
   "metadata": {
    "collapsed": false
   },
   "outputs": [
    {
     "data": {
      "image/png": "[encoded data removed]",
      "text/latex": [
       "$$(k \\mathbf{{y}_{}}^{2})\\mathbf{\\hat{x}_{}} + (k \\left(2 \\mathbf{{x}_{}} \\mathbf{{y}_{}} + \\mathbf{{z}_{}}^{2}\\right))\\mathbf{\\hat{y}_{}} + (2 k \\mathbf{{y}_{}} \\mathbf{{z}_{}})\\mathbf{\\hat{z}_{}}$$"
      ],
      "text/plain": [
       "⎛    2⎞ _x + ⎛  ⎛            2⎞ _y⎞ _y + (2⋅k⋅_y⋅_z) _z\n",
       "⎝k⋅_y ⎠      ⎝k⋅⎝2⋅_x⋅ + _z ⎠⎠                         "
      ]
     },
     "execution_count": 4,
     "metadata": {},
     "output_type": "execute_result"
    }
   ],
   "source": [
    "E2 = k*(y**2*xhat+(2*x*y+z**2)*yhat+2*y*z*zhat)\n",
    "E2"
   ]
  },
  {
   "cell_type": "code",
   "execution_count": 5,
   "metadata": {
    "collapsed": false
   },
   "outputs": [
    {
     "data": {
      "image/png": "[encoded data removed]",
      "text/latex": [
       "$$\\mathbf{\\hat{0}}$$"
      ],
      "text/plain": [
       "0"
      ]
     },
     "execution_count": 5,
     "metadata": {},
     "output_type": "execute_result"
    }
   ],
   "source": [
    "vector.curl(E2)"
   ]
  },
  {
   "cell_type": "markdown",
   "metadata": {},
   "source": [
    "This is a possible electrostatic field because it's curl is zero"
   ]
  },
  {
   "cell_type": "code",
   "execution_count": 6,
   "metadata": {
    "collapsed": false
   },
   "outputs": [
    {
     "data": {
      "image/png": "[encoded data removed]",
      "text/latex": [
       "$$- k \\mathbf{{x}_{}} \\mathbf{{y}_{}}^{2} - k \\mathbf{{y}_{}} \\mathbf{{z}_{}}^{2}$$"
      ],
      "text/plain": [
       "         2          2\n",
       "- k⋅_x⋅_y  - k⋅_y⋅_z "
      ]
     },
     "execution_count": 6,
     "metadata": {},
     "output_type": "execute_result"
    }
   ],
   "source": [
    "Ex = E2.dot(xhat+0*yhat+0*zhat)\n",
    "Ey = E2.dot(0*xhat+yhat+0*zhat)\n",
    "Ez = E2.dot(0*xhat+0*yhat+zhat)\n",
    "Vx = -sp.integrate(Ex,(x,0,x)).subs(y,0).subs(z,0)\n",
    "Vy = -sp.integrate(Ey,(y,0,y)).subs(x,x).subs(z,0)\n",
    "Vz = -sp.integrate(Ez,(z,0,z)).subs(x,x).subs(y,y)\n",
    "V = Vx+Vy+Vz\n",
    "V"
   ]
  },
  {
   "cell_type": "code",
   "execution_count": 7,
   "metadata": {
    "collapsed": false
   },
   "outputs": [
    {
     "data": {
      "text/plain": [
       "True"
      ]
     },
     "execution_count": 7,
     "metadata": {},
     "output_type": "execute_result"
    }
   ],
   "source": [
    "sp.simplify(E2)==sp.simplify(-vector.gradient(V))"
   ]
  },
  {
   "cell_type": "code",
   "execution_count": null,
   "metadata": {
    "collapsed": true
   },
   "outputs": [],
   "source": []
  },
  {
   "cell_type": "markdown",
   "metadata": {},
   "source": [
    "## Problem 2.21"
   ]
  },
  {
   "cell_type": "markdown",
   "metadata": {},
   "source": [
    "Find the potential inside and outside a uniformly charged solid sphere whose radius is R and total charge is q. Use infinity as your reference point. Compute the gradient of V in each region, and check that it yields the correct field"
   ]
  },
  {
   "cell_type": "code",
   "execution_count": 8,
   "metadata": {
    "collapsed": false
   },
   "outputs": [
    {
     "data": {
      "image/png": "[encoded data removed]",
      "text/latex": [
       "$$(\\frac{q}{4 \\epsilon_{0} \\pi r^{2}})\\mathbf{\\hat{r}_{}}$$"
      ],
      "text/plain": [
       "⎛    q    ⎞ _r\n",
       "⎜─────────⎟   \n",
       "⎜        2⎟   \n",
       "⎝4⋅ε₀⋅π⋅r ⎠   "
      ]
     },
     "execution_count": 8,
     "metadata": {},
     "output_type": "execute_result"
    }
   ],
   "source": [
    "import math\n",
    "S = vector.CoordSys3D('', vector_names=['r', \"\\\\theta\", r\"\\phi\"],\n",
    "                     variable_names=['r', \"\\\\theta\", r\"\\phi\"])\n",
    "r = S.x\n",
    "theta = S.y\n",
    "phi = S.z\n",
    "rhat = S.i\n",
    "thetahat = S.j\n",
    "phihat = S.k\n",
    "epsilon_0,q,r,pi,R = sp.symbols('epsilon_0 q r pi R')\n",
    "E_out = (1/(4*pi*epsilon_0))*(q/r**2)*rhat\n",
    "E_out"
   ]
  },
  {
   "cell_type": "code",
   "execution_count": 9,
   "metadata": {
    "collapsed": false
   },
   "outputs": [
    {
     "data": {
      "image/png": "[encoded data removed]",
      "text/latex": [
       "$$\\frac{q}{4 \\epsilon_{0} \\pi r}$$"
      ],
      "text/plain": [
       "   q    \n",
       "────────\n",
       "4⋅ε₀⋅π⋅r"
      ]
     },
     "execution_count": 9,
     "metadata": {},
     "output_type": "execute_result"
    }
   ],
   "source": [
    "V_out = -sp.integrate(E_out.dot(rhat),(r,math.inf, r))\n",
    "V_out"
   ]
  },
  {
   "cell_type": "code",
   "execution_count": 10,
   "metadata": {
    "collapsed": false
   },
   "outputs": [
    {
     "data": {
      "image/png": "[encoded data removed]",
      "text/latex": [
       "$$(\\frac{q r}{4 R^{3} \\epsilon_{0} \\pi})\\mathbf{\\hat{r}_{}}$$"
      ],
      "text/plain": [
       "⎛   q⋅r   ⎞ _r\n",
       "⎜─────────⎟   \n",
       "⎜   3     ⎟   \n",
       "⎝4⋅R ⋅ε₀⋅π⎠   "
      ]
     },
     "execution_count": 10,
     "metadata": {},
     "output_type": "execute_result"
    }
   ],
   "source": [
    "E_in = (q/(4*pi*epsilon_0*R**3))*r*rhat\n",
    "E_in"
   ]
  },
  {
   "cell_type": "code",
   "execution_count": 11,
   "metadata": {
    "collapsed": false
   },
   "outputs": [
    {
     "data": {
      "image/png": "[encoded data removed]",
      "text/latex": [
       "$$\\frac{q \\left(3 R^{2} - r^{2}\\right)}{8 R^{3} \\epsilon_{0} \\pi}$$"
      ],
      "text/plain": [
       "  ⎛   2    2⎞\n",
       "q⋅⎝3⋅R  - r ⎠\n",
       "─────────────\n",
       "     3       \n",
       "  8⋅R ⋅ε₀⋅π  "
      ]
     },
     "execution_count": 11,
     "metadata": {},
     "output_type": "execute_result"
    }
   ],
   "source": [
    "V_in = -sp.integrate(E_out.dot(rhat),(r, math.inf,R))-sp.integrate(E_in.dot(rhat),(r,R,r))\n",
    "sp.simplify(V_in)"
   ]
  },
  {
   "cell_type": "markdown",
   "metadata": {},
   "source": [
    "## Problem 2.23"
   ]
  },
  {
   "cell_type": "code",
   "execution_count": 12,
   "metadata": {
    "collapsed": true
   },
   "outputs": [],
   "source": [
    "S = vector.CoordSys3D('', vector_names=['r', \"\\\\theta\", r\"\\phi\"],\n",
    "                     variable_names=['r', \"\\\\theta\", r\"\\phi\"])\n",
    "r = S.x\n",
    "theta = S.y\n",
    "phi = S.z\n",
    "rhat = S.i\n",
    "thetahat = S.j\n",
    "phihat = S.k\n",
    "epsilon_0,q,r,pi,a,b,k = sp.symbols('epsilon_0 q r pi a b k')\n",
    "E1 = 0\n",
    "E2 = k*(r-a)/(epsilon_0*r**2)\n",
    "E3 = k*(b-a)/(epsilon_0*r**2)"
   ]
  },
  {
   "cell_type": "code",
   "execution_count": 13,
   "metadata": {
    "collapsed": false
   },
   "outputs": [
    {
     "data": {
      "image/png": "[encoded data removed]",
      "text/latex": [
       "$$\\frac{k}{\\epsilon_{0}} \\left(- \\log{\\left (a \\right )} + \\log{\\left (b \\right )}\\right)$$"
      ],
      "text/plain": [
       "k⋅(-log(a) + log(b))\n",
       "────────────────────\n",
       "         ε₀         "
      ]
     },
     "execution_count": 13,
     "metadata": {},
     "output_type": "execute_result"
    }
   ],
   "source": [
    "V = -sp.integrate(E3,(r, math.inf, b))-sp.integrate(E2,(r,b,a))-sp.integrate(E1,(r,a,0))\n",
    "sp.simplify(V)"
   ]
  },
  {
   "cell_type": "code",
   "execution_count": null,
   "metadata": {
    "collapsed": true
   },
   "outputs": [],
   "source": []
  },
  {
   "cell_type": "code",
   "execution_count": null,
   "metadata": {
    "collapsed": true
   },
   "outputs": [],
   "source": []
  },
  {
   "cell_type": "markdown",
   "metadata": {},
   "source": [
    "## Problem 2.28"
   ]
  },
  {
   "cell_type": "markdown",
   "metadata": {},
   "source": [
    "Use Equation 2.29 to calculate the potential inside a uniformly charged solid sphere of radius R and total charge q. Compare your results to Problem 2.21"
   ]
  },
  {
   "cell_type": "code",
   "execution_count": 2,
   "metadata": {
    "collapsed": false
   },
   "outputs": [],
   "source": [
    "import sympy as sp\n",
    "from sympy import vector\n",
    "import math\n",
    "sp.init_printing()\n",
    "\n",
    "S = vector.CoordSys3D('', vector_names = [\"r\", \"\\\\theta\", r\"\\\\phi\"], variable_names = [\"r\", \"\\\\theta\", r\"\\\\phi\"])\n",
    "\n",
    "r = S.x\n",
    "theta = S.y\n",
    "phi = S.z\n",
    "\n",
    "rhat = S.i\n",
    "thetahat = S.j\n",
    "phihat = S.k\n",
    "\n",
    "epsilon_0, q, r, pi, R, s, rho, theta, phi, z = sp.symbols('epsilon_0 q r pi R s rho theta phi z')"
   ]
  },
  {
   "cell_type": "code",
   "execution_count": 3,
   "metadata": {
    "collapsed": false
   },
   "outputs": [
    {
     "data": {
      "image/png": "[encoded data removed]",
      "text/latex": [
       "$$\\frac{0.75 q}{R^{3} \\pi}$$"
      ],
      "text/plain": [
       "0.75⋅q\n",
       "──────\n",
       "  3   \n",
       " R ⋅π "
      ]
     },
     "execution_count": 3,
     "metadata": {},
     "output_type": "execute_result"
    }
   ],
   "source": [
    "rho = q/((4/3)*pi*R**3)\n",
    "rho"
   ]
  },
  {
   "cell_type": "markdown",
   "metadata": {},
   "source": [
    "Convert Equation 2.29 into spherical coordinates"
   ]
  },
  {
   "cell_type": "code",
   "execution_count": 4,
   "metadata": {
    "collapsed": false
   },
   "outputs": [
    {
     "data": {
      "image/png": "[encoded data removed]",
      "text/latex": [
       "$$\\frac{0.375 q}{R^{3} \\epsilon_{0} \\pi}$$"
      ],
      "text/plain": [
       "0.375⋅q\n",
       "───────\n",
       " 3     \n",
       "R ⋅ε₀⋅π"
      ]
     },
     "execution_count": 4,
     "metadata": {},
     "output_type": "execute_result"
    }
   ],
   "source": [
    "V1 = (1/(4*pi*epsilon_0))*rho*sp.integrate(1, (phi,0,2*pi))\n",
    "V2 = sp.integrate(r**2, (r, 0, R))\n",
    "V1"
   ]
  },
  {
   "cell_type": "code",
   "execution_count": 5,
   "metadata": {
    "collapsed": false
   },
   "outputs": [
    {
     "data": {
      "text/latex": [
       "$$\\begin{cases} \\frac{0.125 q}{\\epsilon_{0} \\pi \\left(z^{2}\\right)^{0.5}} \\left(- \\cos{\\left (\\pi \\right )} + 1\\right) & \\text{for}\\: r = 0 \\\\\\frac{0.125 q}{\\epsilon_{0} \\pi \\left(r^{2}\\right)^{0.5}} \\left(- \\cos{\\left (\\pi \\right )} + 1\\right) & \\text{for}\\: z = 0 \\\\\\frac{0.125 q}{\\epsilon_{0} \\pi r z} \\left(- \\left(r^{2} - 2 r z + z^{2}\\right)^{0.5} + \\left(r^{2} - 2 r z \\cos{\\left (\\pi \\right )} + z^{2}\\right)^{0.5}\\right) & \\text{otherwise} \\end{cases}$$"
      ],
      "text/plain": [
       "⎧                                          -0.5                           \n",
       "⎪                                      ⎛ 2⎞                               \n",
       "⎪                0.125⋅q⋅(-cos(π) + 1)⋅⎝z ⎠                               \n",
       "⎪                ──────────────────────────────                  for r = 0\n",
       "⎪                             ε₀⋅π                                        \n",
       "⎪                                                                         \n",
       "⎪                                          -0.5                           \n",
       "⎪                                      ⎛ 2⎞                               \n",
       "⎨                0.125⋅q⋅(-cos(π) + 1)⋅⎝r ⎠                               \n",
       "⎪                ──────────────────────────────                  for z = 0\n",
       "⎪                             ε₀⋅π                                        \n",
       "⎪                                                                         \n",
       "⎪        ⎛                   0.5                           0.5⎞           \n",
       "⎪        ⎜  ⎛ 2            2⎞      ⎛ 2                   2⎞   ⎟           \n",
       "⎪0.125⋅q⋅⎝- ⎝r  - 2⋅r⋅z + z ⎠    + ⎝r  - 2⋅r⋅z⋅cos(π) + z ⎠   ⎠           \n",
       "⎪──────────────────────────────────────────────────────────────  otherwise\n",
       "⎩                           ε₀⋅π⋅r⋅z                                      "
      ]
     },
     "execution_count": 5,
     "metadata": {},
     "output_type": "execute_result"
    }
   ],
   "source": [
    "V3 = sp.integrate(sp.sin(theta)/((r**2+z**2-2*r*z*sp.cos(theta))**(0.5)), (theta, 0,pi))\n",
    "V = V1*V2*V3\n",
    "sp.simplify(V)"
   ]
  },
  {
   "cell_type": "code",
   "execution_count": null,
   "metadata": {
    "collapsed": true
   },
   "outputs": [],
   "source": []
  },
  {
   "cell_type": "code",
   "execution_count": null,
   "metadata": {
    "collapsed": true
   },
   "outputs": [],
   "source": []
  },
  {
   "cell_type": "code",
   "execution_count": null,
   "metadata": {
    "collapsed": true
   },
   "outputs": [],
   "source": []
  },
  {
   "cell_type": "markdown",
   "metadata": {},
   "source": [
    "## Problem 2.34"
   ]
  },
  {
   "cell_type": "markdown",
   "metadata": {},
   "source": [
    "Find the energy stored in a uniformly charged solid sphere of radius R and charge q. Do it three different ways:"
   ]
  },
  {
   "cell_type": "code",
   "execution_count": 6,
   "metadata": {
    "collapsed": true
   },
   "outputs": [],
   "source": [
    "import math\n",
    "S = vector.CoordSys3D('', vector_names=['r', \"\\\\theta\", r\"\\phi\"],\n",
    "                     variable_names=['r', \"\\\\theta\", r\"\\phi\"])\n",
    "r = S.x\n",
    "theta = S.y\n",
    "phi = S.z\n",
    "rhat = S.i\n",
    "thetahat = S.j\n",
    "phihat = S.k\n",
    "epsilon_0,q,r,pi,a,b,k,rho,R,theta,phi = sp.symbols('epsilon_0 q r pi a b k rho R  theta phi')\n",
    "E_out = (1/(4*sp.pi*epsilon_0))*(q/r**2)*rhat\n",
    "E_in = (q/(4*sp.pi*epsilon_0*R**3))*r*rhat\n",
    "V_in = -sp.integrate(E_out.dot(rhat),(r, math.inf,R))-sp.integrate(E_in.dot(rhat),(r,R,r))\n",
    "rho = q/((4/3)*sp.pi*R**3)\n",
    "V_out = -sp.integrate(E_out.dot(rhat),(r,math.inf, r))"
   ]
  },
  {
   "cell_type": "markdown",
   "metadata": {},
   "source": [
    "a.) W = (1/2) * integral of (rho*V) dtau"
   ]
  },
  {
   "cell_type": "code",
   "execution_count": 7,
   "metadata": {
    "collapsed": false
   },
   "outputs": [
    {
     "data": {
      "image/png": "[encoded data removed]",
      "text/latex": [
       "$$\\frac{0.15 q^{2}}{\\pi R \\epsilon_{0}}$$"
      ],
      "text/plain": [
       "      2\n",
       "0.15⋅q \n",
       "───────\n",
       " π⋅R⋅ε₀"
      ]
     },
     "execution_count": 7,
     "metadata": {},
     "output_type": "execute_result"
    }
   ],
   "source": [
    "W_a = (1/2)*sp.integrate(rho*V_in*4*sp.pi*r**2,(r,0,R))\n",
    "W_a"
   ]
  },
  {
   "cell_type": "markdown",
   "metadata": {},
   "source": [
    "b.) W = (epsilon_0/2) x integral of E^2 dtau"
   ]
  },
  {
   "cell_type": "code",
   "execution_count": 8,
   "metadata": {
    "collapsed": false
   },
   "outputs": [
    {
     "data": {
      "image/png": "[encoded data removed]",
      "text/latex": [
       "$$\\frac{3 q^{2}}{20 \\pi R \\epsilon_{0}}$$"
      ],
      "text/plain": [
       "      2  \n",
       "   3⋅q   \n",
       "─────────\n",
       "20⋅π⋅R⋅ε₀"
      ]
     },
     "execution_count": 8,
     "metadata": {},
     "output_type": "execute_result"
    }
   ],
   "source": [
    "W_b1 = (epsilon_0/2)*(sp.integrate(E_out.dot(rhat)**2*4*sp.pi*r**2,(r,R,math.inf)))\n",
    "W_b2 = (epsilon_0/2)*sp.integrate(E_in.dot(rhat)**2*4*sp.pi*r**2,(r,0,R))\n",
    "W_b = W_b1+W_b2\n",
    "W_b"
   ]
  },
  {
   "cell_type": "code",
   "execution_count": null,
   "metadata": {
    "collapsed": true
   },
   "outputs": [],
   "source": []
  },
  {
   "cell_type": "markdown",
   "metadata": {
    "collapsed": true
   },
   "source": [
    "## Problem 2.48"
   ]
  },
  {
   "cell_type": "markdown",
   "metadata": {
    "collapsed": true
   },
   "source": [
    "An inverted hemispherical bowl of radius R carries a uniform surface charge density sigma. Find the potential difference between the \"north pole\"  and the center. [Answer: (Rsigma/2epsi)(root_2 - 1)]"
   ]
  },
  {
   "cell_type": "code",
   "execution_count": 3,
   "metadata": {
    "collapsed": false
   },
   "outputs": [
    {
     "data": {
      "image/png": "[encoded data removed]",
      "text/latex": [
       "$$\\frac{R \\sigma}{2 \\epsilon_{0}}$$"
      ],
      "text/plain": [
       "R⋅σ \n",
       "────\n",
       "2⋅ε₀"
      ]
     },
     "execution_count": 3,
     "metadata": {},
     "output_type": "execute_result"
    }
   ],
   "source": [
    "import math\n",
    "S = vector.CoordSys3D('', vector_names=['r', \"\\\\theta\", r\"\\phi\"],\n",
    "                     variable_names=['r', \"\\\\theta\", r\"\\phi\"])\n",
    "r = S.x\n",
    "theta = S.y\n",
    "phi = S.z\n",
    "rhat = S.i\n",
    "thetahat = S.j\n",
    "phihat = S.k\n",
    "epsilon_0,q,r,pi,sigma,R,theta = sp.symbols('epsilon_0 q r pi sigma R theta')\n",
    "V_center = (1/(4*pi*epsilon_0))*(sigma/R)*2*pi*R**2\n",
    "V_center"
   ]
  },
  {
   "cell_type": "code",
   "execution_count": 4,
   "metadata": {
    "collapsed": false
   },
   "outputs": [
    {
     "data": {
      "image/png": "[encoded data removed]",
      "text/latex": [
       "$$\\frac{\\sqrt{2} \\sigma{\\left (2 \\pi R^{2} \\right )}}{4 \\pi R \\epsilon_{0}}$$"
      ],
      "text/plain": [
       "    ⎛     2⎞\n",
       "√2⋅σ⎝2⋅π⋅R ⎠\n",
       "────────────\n",
       "  4⋅π⋅R⋅ε₀  "
      ]
     },
     "execution_count": 4,
     "metadata": {},
     "output_type": "execute_result"
    }
   ],
   "source": [
    "V_pole = (1/(4*sp.pi*epsilon_0))*sigma(2*sp.pi*R**2)/(R*sp.sqrt(2))*sp.integrate(sp.sin(theta)/(sp.sqrt(1-sp.cos(theta))),(theta,0,sp.pi/2))\n",
    "sp.simplify(V_pole)"
   ]
  },
  {
   "cell_type": "code",
   "execution_count": 5,
   "metadata": {
    "collapsed": false
   },
   "outputs": [
    {
     "data": {
      "image/png": "[encoded data removed]",
      "text/latex": [
       "$$- \\frac{R \\sigma}{2 \\epsilon_{0}} + \\frac{\\sqrt{2} \\sigma{\\left (2 \\pi R^{2} \\right )}}{4 \\pi R \\epsilon_{0}}$$"
      ],
      "text/plain": [
       "             ⎛     2⎞\n",
       "  R⋅σ    √2⋅σ⎝2⋅π⋅R ⎠\n",
       "- ──── + ────────────\n",
       "  2⋅ε₀     4⋅π⋅R⋅ε₀  "
      ]
     },
     "execution_count": 5,
     "metadata": {},
     "output_type": "execute_result"
    }
   ],
   "source": [
    "sp.simplify(V_pole-V_center)"
   ]
  },
  {
   "cell_type": "code",
   "execution_count": null,
   "metadata": {
    "collapsed": true
   },
   "outputs": [],
   "source": []
  }
 ],
 "metadata": {
  "kernelspec": {
   "display_name": "Python [Root]",
   "language": "python",
   "name": "Python [Root]"
  },
  "language_info": {
   "codemirror_mode": {
    "name": "ipython",
    "version": 3
   },
   "file_extension": ".py",
   "mimetype": "text/x-python",
   "name": "python",
   "nbconvert_exporter": "python",
   "pygments_lexer": "ipython3",
   "version": "3.5.2"
  }
 },
 "nbformat": 4,
 "nbformat_minor": 2
}
