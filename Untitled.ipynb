{
 "cells": [
  {
   "cell_type": "code",
   "execution_count": 1,
   "metadata": {
    "collapsed": true
   },
   "outputs": [],
   "source": [
    "import sympy as sp\n",
    "from sympy import vector\n",
    "sp.init_printing()"
   ]
  },
  {
   "cell_type": "markdown",
   "metadata": {},
   "source": [
    "Problem 2.5\n",
    "\n",
    "Find the electric field a distance, z, above the center of a circular loop or radius R that carries a uniform line charge, lambda"
   ]
  },
  {
   "cell_type": "code",
   "execution_count": null,
   "metadata": {
    "collapsed": true
   },
   "outputs": [],
   "source": [
    "S = vector.CoordSys3D('', vector_names = ['r', '\\\\theta', '\\\\phi'], \n",
    "                     variable_names = ['r', '\\\\theta', '\\\\phi'])\n",
    "S._connect_to_standard_cartesian('spherical')\n",
    "\n",
    "r = S.x\n",
    "theta = S.y\n",
    "phi = S.z\n",
    "\n",
    "rhat = S.i\n",
    "thetahat = S.j\n",
    "phihat = S.k\n",
    "\n",
    "C = vector.CoordSys3D('', vector_names = ['x', 'y', 'z'], variable_names = ['x', 'y', 'z'])"
   ]
  },
  {
   "cell_type": "code",
   "execution_count": null,
   "metadata": {
    "collapsed": true
   },
   "outputs": [],
   "source": [
    "z, R = sp.symbols('z,R')\n",
    "measurement_point = z*rhat\n",
    "separation_vector = measurement_point - (r*rhat)\n",
    "#This stuff might not work. Had to work this problem out by hand"
   ]
  },
  {
   "cell_type": "code",
   "execution_count": null,
   "metadata": {
    "collapsed": true
   },
   "outputs": [],
   "source": []
  },
  {
   "cell_type": "markdown",
   "metadata": {},
   "source": [
    "## Problem 2.7 \n",
    "essentially problem 2.5 but with a sphere instead of a line charge\n",
    "z can be inside or outside of the sphere"
   ]
  },
  {
   "cell_type": "code",
   "execution_count": null,
   "metadata": {
    "collapsed": true
   },
   "outputs": [],
   "source": []
  }
 ],
 "metadata": {
  "kernelspec": {
   "display_name": "Python [Root]",
   "language": "python",
   "name": "Python [Root]"
  },
  "language_info": {
   "codemirror_mode": {
    "name": "ipython",
    "version": 3
   },
   "file_extension": ".py",
   "mimetype": "text/x-python",
   "name": "python",
   "nbconvert_exporter": "python",
   "pygments_lexer": "ipython3",
   "version": "3.5.2"
  }
 },
 "nbformat": 4,
 "nbformat_minor": 0
}
