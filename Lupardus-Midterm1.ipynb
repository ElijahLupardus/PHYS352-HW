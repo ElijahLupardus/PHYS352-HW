{
 "cells": [
  {
   "cell_type": "code",
   "execution_count": 1,
   "metadata": {
    "collapsed": true
   },
   "outputs": [],
   "source": [
    "import sympy as sp\n",
    "sp.init_printing()\n",
    "from sympy import vector\n",
    "C = vector.CoordSys3D('', vector_names=['x', \"y\", \"z\"],\n",
    "                     variable_names=['x', \"y\", \"z\"])\n",
    "\n",
    "xhat = C.i\n",
    "yhat = C.j\n",
    "zhat = C.k\n",
    "x = C.x\n",
    "y = C.y\n",
    "z = C.z"
   ]
  },
  {
   "cell_type": "markdown",
   "metadata": {},
   "source": [
    "# Midterm 1\n",
    "## Instructions\n",
    "Use `sympy` to work the problems in this notebook, then submit via pull request. You may use any notebooks we have built over the course of the semester as reference material. Try to format your answers as readably as possible.\n",
    "\n",
    "For vector problems, you may use any of the three methods we have discussed for working with vectors in `sympy`.\n",
    "\n",
    "## `sympy` basics\n",
    "### Problem 1\n",
    "\n",
    "a) Solve $$ ax^2 + bx +c = 0$$ for $x$.\n"
   ]
  },
  {
   "cell_type": "code",
   "execution_count": 2,
   "metadata": {
    "collapsed": false
   },
   "outputs": [
    {
     "ename": "SyntaxError",
     "evalue": "can't assign to operator (<ipython-input-2-3f458e547580>, line 5)",
     "output_type": "error",
     "traceback": [
      "\u001b[1;36m  File \u001b[1;32m\"<ipython-input-2-3f458e547580>\"\u001b[1;36m, line \u001b[1;32m5\u001b[0m\n\u001b[1;33m    a*x**2 + b*x + c = 0\u001b[0m\n\u001b[1;37m                        ^\u001b[0m\n\u001b[1;31mSyntaxError\u001b[0m\u001b[1;31m:\u001b[0m can't assign to operator\n"
     ]
    }
   ],
   "source": [
    "a = sp.symbols('a')\n",
    "b = sp.symbols('b')\n",
    "c = sp.symbols('c')\n",
    "\n",
    "a*x**2 + b*x + c = 0\n",
    "\n",
    "x"
   ]
  },
  {
   "cell_type": "markdown",
   "metadata": {},
   "source": [
    "\n",
    "b) Substitute $a=4$, $b=1$ and $c=-3$ into your answers to the previous question, and have `sympy` give you numerical results."
   ]
  },
  {
   "cell_type": "code",
   "execution_count": null,
   "metadata": {
    "collapsed": true
   },
   "outputs": [],
   "source": []
  },
  {
   "cell_type": "markdown",
   "metadata": {},
   "source": [
    "---\n",
    "\n",
    "## Vector basics\n",
    "### Problem 2\n",
    "Given the vectors $$\\mathbf{A} = \\left(\\begin{array}{c}1\\\\3\\\\-2\\end{array}\\right) \\qquad \\text{and} \\qquad\n",
    "\\mathbf{B}= \\left(\\begin{array}{c}4\\\\1\\\\5\\end{array}\\right),$$\n",
    "what are\n",
    "\n",
    "a) $\\mathbf{A} + \\mathbf{B}$?"
   ]
  },
  {
   "cell_type": "code",
   "execution_count": 2,
   "metadata": {
    "collapsed": false
   },
   "outputs": [
    {
     "data": {
      "image/png": "[encoded data removed]",
      "text/latex": [
       "$$(5)\\mathbf{\\hat{x}_{}} + (4)\\mathbf{\\hat{y}_{}} + (3)\\mathbf{\\hat{z}_{}}$$"
      ],
      "text/plain": [
       "(5) _x + (4) _y + (3) _z"
      ]
     },
     "execution_count": 2,
     "metadata": {},
     "output_type": "execute_result"
    }
   ],
   "source": [
    "A = 1*xhat + 3*yhat - 2*zhat\n",
    "B = 4*xhat + 1*yhat + 5*zhat\n",
    "A + B"
   ]
  },
  {
   "cell_type": "markdown",
   "metadata": {},
   "source": [
    "b) $\\mathbf{A}\\cdot\\mathbf{B}$?"
   ]
  },
  {
   "cell_type": "code",
   "execution_count": 3,
   "metadata": {
    "collapsed": false
   },
   "outputs": [
    {
     "data": {
      "image/png": "[encoded data removed]",
      "text/latex": [
       "$$-3$$"
      ],
      "text/plain": [
       "-3"
      ]
     },
     "execution_count": 3,
     "metadata": {},
     "output_type": "execute_result"
    }
   ],
   "source": [
    "A.dot(B)"
   ]
  },
  {
   "cell_type": "markdown",
   "metadata": {},
   "source": [
    "c) $\\mathbf{A}\\times\\mathbf{B}$?"
   ]
  },
  {
   "cell_type": "code",
   "execution_count": 4,
   "metadata": {
    "collapsed": false
   },
   "outputs": [
    {
     "data": {
      "image/png": "[encoded data removed]",
      "text/latex": [
       "$$(17)\\mathbf{\\hat{x}_{}} + (-13)\\mathbf{\\hat{y}_{}} + (-11)\\mathbf{\\hat{z}_{}}$$"
      ],
      "text/plain": [
       "(17) _x + (-13) _y + (-11) _z"
      ]
     },
     "execution_count": 4,
     "metadata": {},
     "output_type": "execute_result"
    }
   ],
   "source": [
    "A.cross(B)"
   ]
  },
  {
   "cell_type": "markdown",
   "metadata": {},
   "source": [
    "d) $\\mathbf{A} \\cdot \\left(\\mathbf{B} - \\left(\\mathbf{A}\\cdot\\mathbf{B}\\right)\\mathbf{A}\\right)$"
   ]
  },
  {
   "cell_type": "code",
   "execution_count": 5,
   "metadata": {
    "collapsed": false
   },
   "outputs": [
    {
     "data": {
      "image/png": "[encoded data removed]",
      "text/latex": [
       "$$39$$"
      ],
      "text/plain": [
       "39"
      ]
     },
     "execution_count": 5,
     "metadata": {},
     "output_type": "execute_result"
    }
   ],
   "source": [
    "A.dot(B - (A.dot(B))*A)"
   ]
  },
  {
   "cell_type": "markdown",
   "metadata": {},
   "source": [
    "---\n",
    "\n",
    "## Derivatives\n",
    "\n",
    "### Problem 3\n",
    "Given the functions $$\\phi = xy - 3z^2$$ and $$\\mathbf{v} = zx\\hat{\\mathbf{x}} + yz\\hat{\\mathbf{y}} - xy\\hat{\\mathbf{z}},$$\n",
    "\n",
    "what are\n",
    "\n",
    "a) $\\nabla\\phi$?"
   ]
  },
  {
   "cell_type": "code",
   "execution_count": 5,
   "metadata": {
    "collapsed": false
   },
   "outputs": [
    {
     "data": {
      "image/png": "[encoded data removed]",
      "text/latex": [
       "$$(\\mathbf{{y}_{}})\\mathbf{\\hat{x}_{}} + (\\mathbf{{x}_{}})\\mathbf{\\hat{y}_{}} + (- 6 \\mathbf{{z}_{}})\\mathbf{\\hat{z}_{}}$$"
      ],
      "text/plain": [
       "(_y) _x + (_x) _y + (-6⋅_z) _z"
      ]
     },
     "execution_count": 5,
     "metadata": {},
     "output_type": "execute_result"
    }
   ],
   "source": [
    "phi = sp.symbols('phi')\n",
    "phi = x*y - 3*z**2\n",
    "vector.gradient(phi)"
   ]
  },
  {
   "cell_type": "markdown",
   "metadata": {},
   "source": [
    "b) $\\nabla \\cdot \\left(\\phi \\mathbf{v}\\right) $"
   ]
  },
  {
   "cell_type": "code",
   "execution_count": 6,
   "metadata": {
    "collapsed": false
   },
   "outputs": [
    {
     "data": {
      "image/png": "[encoded data removed]",
      "text/latex": [
       "$$2 \\left(\\mathbf{{x}_{}} \\mathbf{{y}_{}} - 3 \\mathbf{{z}_{}}^{2}\\right) \\mathbf{{z}_{}} + 8 \\mathbf{{x}_{}} \\mathbf{{y}_{}} \\mathbf{{z}_{}}$$"
      ],
      "text/plain": [
       "  ⎛            2⎞                \n",
       "2⋅⎝_x⋅_y - 3⋅_z ⎠⋅_z + 8⋅_x⋅_y⋅_z"
      ]
     },
     "execution_count": 6,
     "metadata": {},
     "output_type": "execute_result"
    }
   ],
   "source": [
    "v = z*x*xhat + y*z*yhat - x*y*zhat\n",
    "vector.divergence(phi*v)"
   ]
  },
  {
   "cell_type": "markdown",
   "metadata": {},
   "source": [
    "c) $\\nabla\\times \\mathbf{v}$"
   ]
  },
  {
   "cell_type": "code",
   "execution_count": 14,
   "metadata": {
    "collapsed": false
   },
   "outputs": [
    {
     "data": {
      "image/png": "[encoded data removed]",
      "text/latex": [
       "$$(- \\mathbf{{x}_{}} - \\mathbf{{y}_{}})\\mathbf{\\hat{x}_{}} + (\\mathbf{{x}_{}} + \\mathbf{{y}_{}})\\mathbf{\\hat{y}_{}}$$"
      ],
      "text/plain": [
       "(-_x - _y) _x + (_x + _y) _y"
      ]
     },
     "execution_count": 14,
     "metadata": {},
     "output_type": "execute_result"
    }
   ],
   "source": [
    "vector.curl(v)"
   ]
  },
  {
   "cell_type": "markdown",
   "metadata": {},
   "source": [
    "d) $(\\nabla\\cdot\\mathbf{v}) (\\nabla\\phi\\times\\hat{\\mathbf{z}})$"
   ]
  },
  {
   "cell_type": "code",
   "execution_count": 15,
   "metadata": {
    "collapsed": false
   },
   "outputs": [
    {
     "data": {
      "image/png": "[encoded data removed]",
      "text/latex": [
       "$$(2 \\mathbf{{x}_{}} \\mathbf{{z}_{}})\\mathbf{\\hat{x}_{}} + (- 2 \\mathbf{{y}_{}} \\mathbf{{z}_{}})\\mathbf{\\hat{y}_{}}$$"
      ],
      "text/plain": [
       "(2⋅_x⋅_z) _x + (-2⋅_y⋅_z) _y"
      ]
     },
     "execution_count": 15,
     "metadata": {},
     "output_type": "execute_result"
    }
   ],
   "source": [
    "(vector.divergence(v))*((vector.gradient(phi)).cross(zhat))"
   ]
  },
  {
   "cell_type": "markdown",
   "metadata": {},
   "source": [
    "---\n",
    "\n",
    "## Integrals\n",
    "\n",
    "### Problem 4\n",
    "a) For the $\\phi$ defined above, evaluate $$\\iiint \\phi \\,d\\tau $$ over the tetrahedron with vertices at $(0,0,0)$, $(1,0,0)$, $(0,1,0)$, and $(0,0,1)$."
   ]
  },
  {
   "cell_type": "code",
   "execution_count": 16,
   "metadata": {
    "collapsed": false,
    "scrolled": true
   },
   "outputs": [
    {
     "data": {
      "image/png": "[encoded data removed]",
      "text/latex": [
       "$$- \\frac{3}{4}$$"
      ],
      "text/plain": [
       "-3/4"
      ]
     },
     "execution_count": 16,
     "metadata": {},
     "output_type": "execute_result"
    }
   ],
   "source": [
    "vol_integral = sp.integrate(sp.integrate(sp.integrate(phi, \n",
    "                                                      (x,0,1)), \n",
    "                                         (y, 0, 1)), \n",
    "                            (z, 0, 1))\n",
    "vol_integral"
   ]
  },
  {
   "cell_type": "markdown",
   "metadata": {},
   "source": [
    "b) Evaluate $$\\int \\mathbf{v}\\cdot\\,d\\mathbf{l}$$ along the path $(1,1,1) \\rightarrow (1,1,0) \\rightarrow (0,0,0)$."
   ]
  },
  {
   "cell_type": "code",
   "execution_count": 8,
   "metadata": {
    "collapsed": false
   },
   "outputs": [
    {
     "ename": "ValueError",
     "evalue": "Invalid multiplication",
     "output_type": "error",
     "traceback": [
      "\u001b[1;31m---------------------------------------------------------------------------\u001b[0m",
      "\u001b[1;31mValueError\u001b[0m                                Traceback (most recent call last)",
      "\u001b[1;32m<ipython-input-8-2bfaaa2d3475>\u001b[0m in \u001b[0;36m<module>\u001b[1;34m()\u001b[0m\n\u001b[0;32m      1\u001b[0m \u001b[0mvert\u001b[0m \u001b[1;33m=\u001b[0m \u001b[0msp\u001b[0m\u001b[1;33m.\u001b[0m\u001b[0mintegrate\u001b[0m\u001b[1;33m(\u001b[0m\u001b[0mv\u001b[0m\u001b[1;33m.\u001b[0m\u001b[0mdot\u001b[0m\u001b[1;33m(\u001b[0m\u001b[0mzhat\u001b[0m\u001b[1;33m)\u001b[0m\u001b[1;33m,\u001b[0m \u001b[1;33m(\u001b[0m\u001b[0mz\u001b[0m\u001b[1;33m,\u001b[0m \u001b[1;36m1\u001b[0m\u001b[1;33m,\u001b[0m \u001b[1;36m0\u001b[0m\u001b[1;33m)\u001b[0m\u001b[1;33m)\u001b[0m\u001b[1;33m.\u001b[0m\u001b[0msubs\u001b[0m\u001b[1;33m(\u001b[0m\u001b[1;33m{\u001b[0m\u001b[0mx\u001b[0m\u001b[1;33m:\u001b[0m\u001b[1;36m1\u001b[0m\u001b[1;33m,\u001b[0m \u001b[0my\u001b[0m\u001b[1;33m:\u001b[0m\u001b[1;36m1\u001b[0m\u001b[1;33m}\u001b[0m\u001b[1;33m)\u001b[0m\u001b[1;33m\u001b[0m\u001b[0m\n\u001b[0;32m      2\u001b[0m \u001b[1;33m\u001b[0m\u001b[0m\n\u001b[1;32m----> 3\u001b[1;33m \u001b[0mhoriz\u001b[0m \u001b[1;33m=\u001b[0m \u001b[0msp\u001b[0m\u001b[1;33m.\u001b[0m\u001b[0mintegrate\u001b[0m\u001b[1;33m(\u001b[0m\u001b[0mv\u001b[0m\u001b[1;33m.\u001b[0m\u001b[0mdot\u001b[0m\u001b[1;33m(\u001b[0m\u001b[0mxhat\u001b[0m\u001b[1;33m*\u001b[0m\u001b[0myhat\u001b[0m\u001b[1;33m)\u001b[0m\u001b[1;33m,\u001b[0m \u001b[1;33m(\u001b[0m\u001b[0mx\u001b[0m\u001b[1;33m,\u001b[0m \u001b[1;36m1\u001b[0m\u001b[1;33m,\u001b[0m \u001b[1;36m0\u001b[0m\u001b[1;33m)\u001b[0m\u001b[1;33m,\u001b[0m \u001b[1;33m(\u001b[0m\u001b[0my\u001b[0m\u001b[1;33m,\u001b[0m \u001b[1;36m1\u001b[0m\u001b[1;33m,\u001b[0m \u001b[1;36m0\u001b[0m\u001b[1;33m)\u001b[0m\u001b[1;33m)\u001b[0m\u001b[1;33m.\u001b[0m\u001b[0msubs\u001b[0m\u001b[1;33m(\u001b[0m\u001b[1;33m{\u001b[0m\u001b[0mz\u001b[0m\u001b[1;33m:\u001b[0m\u001b[1;36m0\u001b[0m\u001b[1;33m}\u001b[0m\u001b[1;33m)\u001b[0m\u001b[1;33m\u001b[0m\u001b[0m\n\u001b[0m\u001b[0;32m      4\u001b[0m \u001b[1;33m\u001b[0m\u001b[0m\n\u001b[0;32m      5\u001b[0m \u001b[0mline_integral\u001b[0m \u001b[1;33m=\u001b[0m \u001b[0mhoriz\u001b[0m \u001b[1;33m+\u001b[0m \u001b[0mvert\u001b[0m\u001b[1;33m\u001b[0m\u001b[0m\n",
      "\u001b[1;32mC:\\Users\\owner\\Anaconda3hopefullyworks\\lib\\site-packages\\sympy\\core\\decorators.py\u001b[0m in \u001b[0;36m__sympifyit_wrapper\u001b[1;34m(a, b)\u001b[0m\n\u001b[0;32m     89\u001b[0m                 \u001b[1;32mif\u001b[0m \u001b[1;32mnot\u001b[0m \u001b[0mhasattr\u001b[0m\u001b[1;33m(\u001b[0m\u001b[0mb\u001b[0m\u001b[1;33m,\u001b[0m \u001b[1;34m'_op_priority'\u001b[0m\u001b[1;33m)\u001b[0m\u001b[1;33m:\u001b[0m\u001b[1;33m\u001b[0m\u001b[0m\n\u001b[0;32m     90\u001b[0m                     \u001b[0mb\u001b[0m \u001b[1;33m=\u001b[0m \u001b[0msympify\u001b[0m\u001b[1;33m(\u001b[0m\u001b[0mb\u001b[0m\u001b[1;33m,\u001b[0m \u001b[0mstrict\u001b[0m\u001b[1;33m=\u001b[0m\u001b[1;32mTrue\u001b[0m\u001b[1;33m)\u001b[0m\u001b[1;33m\u001b[0m\u001b[0m\n\u001b[1;32m---> 91\u001b[1;33m                 \u001b[1;32mreturn\u001b[0m \u001b[0mfunc\u001b[0m\u001b[1;33m(\u001b[0m\u001b[0ma\u001b[0m\u001b[1;33m,\u001b[0m \u001b[0mb\u001b[0m\u001b[1;33m)\u001b[0m\u001b[1;33m\u001b[0m\u001b[0m\n\u001b[0m\u001b[0;32m     92\u001b[0m             \u001b[1;32mexcept\u001b[0m \u001b[0mSympifyError\u001b[0m\u001b[1;33m:\u001b[0m\u001b[1;33m\u001b[0m\u001b[0m\n\u001b[0;32m     93\u001b[0m                 \u001b[1;32mreturn\u001b[0m \u001b[0mretval\u001b[0m\u001b[1;33m\u001b[0m\u001b[0m\n",
      "\u001b[1;32mC:\\Users\\owner\\Anaconda3hopefullyworks\\lib\\site-packages\\sympy\\core\\decorators.py\u001b[0m in \u001b[0;36mbinary_op_wrapper\u001b[1;34m(self, other)\u001b[0m\n\u001b[0;32m    130\u001b[0m                     \u001b[1;32melse\u001b[0m\u001b[1;33m:\u001b[0m\u001b[1;33m\u001b[0m\u001b[0m\n\u001b[0;32m    131\u001b[0m                         \u001b[1;32mreturn\u001b[0m \u001b[0mf\u001b[0m\u001b[1;33m(\u001b[0m\u001b[0mself\u001b[0m\u001b[1;33m)\u001b[0m\u001b[1;33m\u001b[0m\u001b[0m\n\u001b[1;32m--> 132\u001b[1;33m             \u001b[1;32mreturn\u001b[0m \u001b[0mfunc\u001b[0m\u001b[1;33m(\u001b[0m\u001b[0mself\u001b[0m\u001b[1;33m,\u001b[0m \u001b[0mother\u001b[0m\u001b[1;33m)\u001b[0m\u001b[1;33m\u001b[0m\u001b[0m\n\u001b[0m\u001b[0;32m    133\u001b[0m         \u001b[1;32mreturn\u001b[0m \u001b[0mbinary_op_wrapper\u001b[0m\u001b[1;33m\u001b[0m\u001b[0m\n\u001b[0;32m    134\u001b[0m     \u001b[1;32mreturn\u001b[0m \u001b[0mpriority_decorator\u001b[0m\u001b[1;33m\u001b[0m\u001b[0m\n",
      "\u001b[1;32mC:\\Users\\owner\\Anaconda3hopefullyworks\\lib\\site-packages\\sympy\\vector\\basisdependent.py\u001b[0m in \u001b[0;36m__mul__\u001b[1;34m(self, other)\u001b[0m\n\u001b[0;32m     34\u001b[0m     \u001b[1;33m@\u001b[0m\u001b[0mcall_highest_priority\u001b[0m\u001b[1;33m(\u001b[0m\u001b[1;34m'__rmul__'\u001b[0m\u001b[1;33m)\u001b[0m\u001b[1;33m\u001b[0m\u001b[0m\n\u001b[0;32m     35\u001b[0m     \u001b[1;32mdef\u001b[0m \u001b[0m__mul__\u001b[0m\u001b[1;33m(\u001b[0m\u001b[0mself\u001b[0m\u001b[1;33m,\u001b[0m \u001b[0mother\u001b[0m\u001b[1;33m)\u001b[0m\u001b[1;33m:\u001b[0m\u001b[1;33m\u001b[0m\u001b[0m\n\u001b[1;32m---> 36\u001b[1;33m         \u001b[1;32mreturn\u001b[0m \u001b[0mself\u001b[0m\u001b[1;33m.\u001b[0m\u001b[0m_mul_func\u001b[0m\u001b[1;33m(\u001b[0m\u001b[0mself\u001b[0m\u001b[1;33m,\u001b[0m \u001b[0mother\u001b[0m\u001b[1;33m)\u001b[0m\u001b[1;33m\u001b[0m\u001b[0m\n\u001b[0m\u001b[0;32m     37\u001b[0m \u001b[1;33m\u001b[0m\u001b[0m\n\u001b[0;32m     38\u001b[0m     \u001b[1;33m@\u001b[0m\u001b[0m_sympifyit\u001b[0m\u001b[1;33m(\u001b[0m\u001b[1;34m'other'\u001b[0m\u001b[1;33m,\u001b[0m \u001b[0mNotImplemented\u001b[0m\u001b[1;33m)\u001b[0m\u001b[1;33m\u001b[0m\u001b[0m\n",
      "\u001b[1;32mC:\\Users\\owner\\Anaconda3hopefullyworks\\lib\\site-packages\\sympy\\vector\\vector.py\u001b[0m in \u001b[0;36m__new__\u001b[1;34m(cls, *args, **options)\u001b[0m\n\u001b[0;32m    435\u001b[0m \u001b[1;33m\u001b[0m\u001b[0m\n\u001b[0;32m    436\u001b[0m     \u001b[1;32mdef\u001b[0m \u001b[0m__new__\u001b[0m\u001b[1;33m(\u001b[0m\u001b[0mcls\u001b[0m\u001b[1;33m,\u001b[0m \u001b[1;33m*\u001b[0m\u001b[0margs\u001b[0m\u001b[1;33m,\u001b[0m \u001b[1;33m**\u001b[0m\u001b[0moptions\u001b[0m\u001b[1;33m)\u001b[0m\u001b[1;33m:\u001b[0m\u001b[1;33m\u001b[0m\u001b[0m\n\u001b[1;32m--> 437\u001b[1;33m         \u001b[0mobj\u001b[0m \u001b[1;33m=\u001b[0m \u001b[0mBasisDependentMul\u001b[0m\u001b[1;33m.\u001b[0m\u001b[0m__new__\u001b[0m\u001b[1;33m(\u001b[0m\u001b[0mcls\u001b[0m\u001b[1;33m,\u001b[0m \u001b[1;33m*\u001b[0m\u001b[0margs\u001b[0m\u001b[1;33m,\u001b[0m \u001b[1;33m**\u001b[0m\u001b[0moptions\u001b[0m\u001b[1;33m)\u001b[0m\u001b[1;33m\u001b[0m\u001b[0m\n\u001b[0m\u001b[0;32m    438\u001b[0m         \u001b[1;32mreturn\u001b[0m \u001b[0mobj\u001b[0m\u001b[1;33m\u001b[0m\u001b[0m\n\u001b[0;32m    439\u001b[0m \u001b[1;33m\u001b[0m\u001b[0m\n",
      "\u001b[1;32mC:\\Users\\owner\\Anaconda3hopefullyworks\\lib\\site-packages\\sympy\\vector\\basisdependent.py\u001b[0m in \u001b[0;36m__new__\u001b[1;34m(cls, *args, **options)\u001b[0m\n\u001b[0;32m    257\u001b[0m         \u001b[1;31m# Make sure incompatible types weren't multiplied\u001b[0m\u001b[1;33m\u001b[0m\u001b[1;33m\u001b[0m\u001b[0m\n\u001b[0;32m    258\u001b[0m         \u001b[1;32mif\u001b[0m \u001b[0mcount\u001b[0m \u001b[1;33m>\u001b[0m \u001b[1;36m1\u001b[0m\u001b[1;33m:\u001b[0m\u001b[1;33m\u001b[0m\u001b[0m\n\u001b[1;32m--> 259\u001b[1;33m             \u001b[1;32mraise\u001b[0m \u001b[0mValueError\u001b[0m\u001b[1;33m(\u001b[0m\u001b[1;34m\"Invalid multiplication\"\u001b[0m\u001b[1;33m)\u001b[0m\u001b[1;33m\u001b[0m\u001b[0m\n\u001b[0m\u001b[0;32m    260\u001b[0m         \u001b[1;32melif\u001b[0m \u001b[0mcount\u001b[0m \u001b[1;33m==\u001b[0m \u001b[1;36m0\u001b[0m\u001b[1;33m:\u001b[0m\u001b[1;33m\u001b[0m\u001b[0m\n\u001b[0;32m    261\u001b[0m             \u001b[1;32mreturn\u001b[0m \u001b[0mMul\u001b[0m\u001b[1;33m(\u001b[0m\u001b[1;33m*\u001b[0m\u001b[0margs\u001b[0m\u001b[1;33m,\u001b[0m \u001b[1;33m**\u001b[0m\u001b[0moptions\u001b[0m\u001b[1;33m)\u001b[0m\u001b[1;33m\u001b[0m\u001b[0m\n",
      "\u001b[1;31mValueError\u001b[0m: Invalid multiplication"
     ]
    }
   ],
   "source": [
    "vert = sp.integrate(v.dot(zhat), (z, 1, 0)).subs({x:1, y:1})\n",
    "\n",
    "horiz = (sp.integrate(sp.integrate(v.dot(xhat), (x, 1, 0))), (y, 1, 0)).subs({z:0})\n",
    "#not sure how to integrate this along x AND y in this way\n",
    "#This line is y = x. This is the one thing I was missing.\n",
    "line_integral = horiz + vert\n",
    "line_integral"
   ]
  },
  {
   "cell_type": "markdown",
   "metadata": {},
   "source": [
    "---\n",
    "\n",
    "## Curvilinear coordinates\n",
    "\n",
    "### Problem 5\n",
    "Verify the divergence theorem for the function \n",
    "$$\\mathbf{w} = r^3 \\cos\\theta\\sin\\phi\\,\\hat{\\mathbf{r}} + {\\sin\\theta\\over r} \\hat{\\boldsymbol{\\theta}}$$ \n",
    "\n",
    "on the volume (in spherical coordinates) \n",
    "$$\\begin{eqnarray} a &\\le r &\\le b \\\\ 0 & \\le \\theta &\\le \\pi/6 \\\\ \\pi/4 &\\le \\phi &\\le \\pi\\end{eqnarray}$$ "
   ]
  },
  {
   "cell_type": "code",
   "execution_count": 7,
   "metadata": {
    "collapsed": false
   },
   "outputs": [],
   "source": [
    "r = sp.symbols('r')\n",
    "theta = sp.symbols('theta')\n",
    "phi = sp.symbols('phi')\n",
    "a = sp.symbols('a')\n",
    "b = sp.symbols('b')\n",
    "S = vector.CoordSys3D('', vector_names=['r', \"\\\\theta\", r\"\\phi\"],\n",
    "                     variable_names=['r', \"\\\\theta\", r\"\\phi\"])\n",
    "\n",
    "r = S.x\n",
    "theta = S.y\n",
    "phi = S.z\n",
    "\n",
    "rhat = S.i\n",
    "thetahat = S.j\n",
    "phihat = S.k\n",
    "\n",
    "w = r**3*sp.cos(theta)*sp.sin(phi)*rhat + (sp.sin(theta) / r)*thetahat\n",
    "\n"
   ]
  },
  {
   "cell_type": "code",
   "execution_count": null,
   "metadata": {
    "collapsed": false
   },
   "outputs": [
    {
     "data": {
      "image/png": "[encoded data removed]",
      "text/latex": [
       "$$- \\frac{a^{3}}{2} - \\frac{\\sqrt{2} a^{3}}{4} + \\frac{\\sqrt{2} b^{3}}{4} + \\frac{b^{3}}{2} - \\frac{3 \\pi}{8} \\log{\\left (a \\right )} + \\frac{3 \\pi}{8} \\log{\\left (b \\right )}$$"
      ],
      "text/plain": [
       "   3       3       3    3                          \n",
       "  a    √2⋅a    √2⋅b    b    3⋅π⋅log(a)   3⋅π⋅log(b)\n",
       "- ── - ───── + ───── + ── - ────────── + ──────────\n",
       "  2      4       4     2        8            8     "
      ]
     },
     "execution_count": 8,
     "metadata": {},
     "output_type": "execute_result"
    }
   ],
   "source": [
    "div_w = vector.divergence(w)\n",
    "vol_integral = sp.integrate(sp.integrate(sp.integrate(div_w, \n",
    "                                                      (r,a,b)), \n",
    "                                         (theta, 0, (sp.pi / 6))), \n",
    "                            (phi, (sp.pi/4), sp.pi))\n",
    "vol_integral\n",
    "#need to include r**2 sin(theta) (always do this in spherical coordinates)"
   ]
  },
  {
   "cell_type": "code",
   "execution_count": null,
   "metadata": {
    "collapsed": true
   },
   "outputs": [],
   "source": [
    "surface_integral = \n",
    "#We did it as front, back, top, bottom, etc. I'm not sure how that works in spherical coordinates"
   ]
  },
  {
   "cell_type": "markdown",
   "metadata": {},
   "source": [
    "Notes:\n",
    "\n",
    "In spherical coordinates:\n",
    "dr = normal\n",
    "dtheta = rsin(theta)\n",
    "dphi = rsin(theta)\n",
    "dtheta dphi = r**2*sin(theta)"
   ]
  }
 ],
 "metadata": {
  "anaconda-cloud": {},
  "kernelspec": {
   "display_name": "Python [Root]",
   "language": "python",
   "name": "Python [Root]"
  },
  "language_info": {
   "codemirror_mode": {
    "name": "ipython",
    "version": 3
   },
   "file_extension": ".py",
   "mimetype": "text/x-python",
   "name": "python",
   "nbconvert_exporter": "python",
   "pygments_lexer": "ipython3",
   "version": "3.5.2"
  }
 },
 "nbformat": 4,
 "nbformat_minor": 2
}
