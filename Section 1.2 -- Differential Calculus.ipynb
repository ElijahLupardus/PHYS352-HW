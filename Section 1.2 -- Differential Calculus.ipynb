{
 "cells": [
  {
   "cell_type": "code",
   "execution_count": 1,
   "metadata": {
    "collapsed": true
   },
   "outputs": [],
   "source": [
    "import sympy as sp\n",
    "sp.init_printing()\n",
    "%matplotlib inline"
   ]
  },
  {
   "cell_type": "markdown",
   "metadata": {},
   "source": [
    "### Problem 1.12\n",
    "\n",
    "The height of a certain hill (in feet) is given by $$h(x,y) = 10\\left(2xy - 3x^2 - 4y^2 -18x + 28y +12\\right), $$ where $y$ is the distance in miles north, $x$ the distance east of South Hadley.\n",
    "\n",
    "1. Where is the top of the hill located?\n",
    "2. How high is the hill?\n",
    "3. How steep is the slope (in feet per mile) at a point 1 mile north and one mile east of South Hadley? In what direction is the slope steepest at that point?\n",
    "---\n",
    "#### Solution\n",
    "The top of the hill is located at the spot where the gradient is zero. This might look like it's only one equation for two unknowns, but remember that both components of the gradient have to simultaneously go to zero."
   ]
  },
  {
   "cell_type": "code",
   "execution_count": 2,
   "metadata": {},
   "outputs": [
    {
     "data": {
      "image/png": "[encoded data removed]",
      "text/latex": [
       "$$- 30 x^{2} + 20 x y - 180 x - 40 y^{2} + 280 y + 120$$"
      ],
      "text/plain": [
       "      2                        2              \n",
       "- 30⋅x  + 20⋅x⋅y - 180⋅x - 40⋅y  + 280⋅y + 120"
      ]
     },
     "execution_count": 2,
     "metadata": {},
     "output_type": "execute_result"
    }
   ],
   "source": [
    "x,y,z  = sp.symbols('x y z')\n",
    "h = 10*(2*x*y - 3*x**2 - 4*y**2 - 18*x + 28*y + 12)\n",
    "h"
   ]
  },
  {
   "cell_type": "code",
   "execution_count": 3,
   "metadata": {},
   "outputs": [
    {
     "data": {
      "image/png": "[encoded data removed]",
      "text/latex": [
       "$$\\left \\{ x : -2, \\quad y : 3\\right \\}$$"
      ],
      "text/plain": [
       "{x: -2, y: 3}"
      ]
     },
     "execution_count": 3,
     "metadata": {},
     "output_type": "execute_result"
    }
   ],
   "source": [
    "sp.solve([sp.diff(h,x), sp.diff(h,y)], [x,y])"
   ]
  },
  {
   "cell_type": "markdown",
   "metadata": {},
   "source": [
    "That went by a little fast, so let me do it in slow motion."
   ]
  },
  {
   "cell_type": "code",
   "execution_count": 4,
   "metadata": {},
   "outputs": [
    {
     "data": {
      "image/png": "[encoded data removed]",
      "text/latex": [
       "$$\\left \\{ x : -2, \\quad y : 3\\right \\}$$"
      ],
      "text/plain": [
       "{x: -2, y: 3}"
      ]
     },
     "execution_count": 4,
     "metadata": {},
     "output_type": "execute_result"
    }
   ],
   "source": [
    "gradient_x_component = sp.diff(h,x)\n",
    "gradient_y_component = sp.diff(h,y)\n",
    "\n",
    "equations_to_solve = [sp.Eq(gradient_x_component, 0), sp.Eq(gradient_y_component, 0)]\n",
    "variables_for_which_to_solve = [x,y]\n",
    "\n",
    "location_of_top = sp.solve(equations_to_solve, variables_for_which_to_solve)\n",
    "location_of_top"
   ]
  },
  {
   "cell_type": "markdown",
   "metadata": {},
   "source": [
    "I used the additional shortcut that if you're trying to solve an equation of the form $$\\text{left hand side} = 0, $$\n",
    "you can just pass in the left hand side instead of building an equation (which is what I did with `sp.Eq()` in the slow motion version)\n",
    "\n",
    "\n",
    "For the height at the top, we substitute in the highest location. We can do this two ways:\n",
    "1. with `subs()`.\n",
    "2. with `lambdify()`.\n",
    "\n",
    "First, using `subs()`. In the previous set of solutions, I chained calls to `subs()` to do multiple substitutions. There is another way to do this, however; just pass in a python dictionary with all of the substitutions you want to use. Fortunately, when called with multiple things to solve for, `sp.solve` returns a dictionary, so we have one handy for this operation."
   ]
  },
  {
   "cell_type": "code",
   "execution_count": 5,
   "metadata": {},
   "outputs": [
    {
     "data": {
      "image/png": "[encoded data removed]",
      "text/latex": [
       "$$720$$"
      ],
      "text/plain": [
       "720"
      ]
     },
     "execution_count": 5,
     "metadata": {},
     "output_type": "execute_result"
    }
   ],
   "source": [
    "h.subs(location_of_top)"
   ]
  },
  {
   "cell_type": "markdown",
   "metadata": {},
   "source": [
    "Next, with `lambdify`. This is a function that turns a `sympy` expression into a python function that can calculate numerical results."
   ]
  },
  {
   "cell_type": "code",
   "execution_count": 6,
   "metadata": {},
   "outputs": [],
   "source": [
    "hill_height = sp.lambdify((x,y), h)"
   ]
  },
  {
   "cell_type": "code",
   "execution_count": 7,
   "metadata": {},
   "outputs": [
    {
     "data": {
      "image/png": "[encoded data removed]",
      "text/latex": [
       "$$720$$"
      ],
      "text/plain": [
       "720"
      ]
     },
     "execution_count": 7,
     "metadata": {},
     "output_type": "execute_result"
    }
   ],
   "source": [
    "hill_height(-2,3)"
   ]
  },
  {
   "cell_type": "markdown",
   "metadata": {},
   "source": [
    "Why would you want to do this when the substitution method is so easy? For this problem, you probably wouldn't. If, however, you wanted to make a plot of the hill, or otherwise use its geometry, `lambdify` would make that much easier.\n",
    "\n",
    "In answer to the third part, the steepness of the hill is given by the magnitude of the gradient. We will make a gradient vector..."
   ]
  },
  {
   "cell_type": "code",
   "execution_count": 8,
   "metadata": {},
   "outputs": [
    {
     "data": {
      "image/png": "[encoded data removed]",
      "text/latex": [
       "$$\\left[\\begin{matrix}- 60 x + 20 y - 180 & 20 x - 80 y + 280 & 0\\end{matrix}\\right]$$"
      ],
      "text/plain": [
       "[-60⋅x + 20⋅y - 180  20⋅x - 80⋅y + 280  0]"
      ]
     },
     "execution_count": 8,
     "metadata": {},
     "output_type": "execute_result"
    }
   ],
   "source": [
    "grad_h = sp.Matrix([[sp.diff(h,x), sp.diff(h,y), sp.diff(h,z)]])\n",
    "grad_h"
   ]
  },
  {
   "cell_type": "markdown",
   "metadata": {},
   "source": [
    "... evaluate it at the point $(1,1)$..."
   ]
  },
  {
   "cell_type": "code",
   "execution_count": 9,
   "metadata": {},
   "outputs": [
    {
     "data": {
      "image/png": "[encoded data removed]",
      "text/latex": [
       "$$\\left[\\begin{matrix}-220 & 220 & 0\\end{matrix}\\right]$$"
      ],
      "text/plain": [
       "[-220  220  0]"
      ]
     },
     "execution_count": 9,
     "metadata": {},
     "output_type": "execute_result"
    }
   ],
   "source": [
    "grad_at_point = grad_h.subs({x:1, y:1})\n",
    "grad_at_point"
   ]
  },
  {
   "cell_type": "markdown",
   "metadata": {},
   "source": [
    "... and measure its magnitude as the square root of the vector dotted into itself."
   ]
  },
  {
   "cell_type": "code",
   "execution_count": 10,
   "metadata": {},
   "outputs": [
    {
     "data": {
      "image/png": "[encoded data removed]",
      "text/latex": [
       "$$220 \\sqrt{2}$$"
      ],
      "text/plain": [
       "220⋅√2"
      ]
     },
     "execution_count": 10,
     "metadata": {},
     "output_type": "execute_result"
    }
   ],
   "source": [
    "sp.sqrt(grad_at_point.dot(grad_at_point))"
   ]
  },
  {
   "cell_type": "markdown",
   "metadata": {},
   "source": [
    "The direction of maximum steepness is the direction of the gradient vector, which is pretty obviously $(-1,1,0)$, or northwest.\n",
    "\n",
    "----\n",
    "\n",
    "----\n",
    "\n",
    "### Problem 1.13\n",
    "*Note: this problem uses Griffiths' notation for the separation vector (a cursive r) which is not easily rendered in LaTeX or Markdown. I'm changing the notation to make things easier on myself from a typesetting perspective.*\n",
    "\n",
    "Let $\\mathfrak{r}$ be the separation vector from a fixed point $(x', y', z')$ to the point $(x, y, z)$, and let $|\\mathfrak{r}|$ be its length. Show that\n",
    "\n",
    "1. $\\nabla\\left(|\\mathfrak{r}|^2\\right) = 2\\mathfrak{r}$\n",
    "2. $\\nabla\\left(1/|\\mathfrak{r}|\\right) = -\\hat{\\mathfrak{r}}/|\\mathfrak{r}|^2$\n",
    "3. What is the general formula for $\\nabla\\left(|\\mathfrak{r}|^n\\right)$?\n",
    "---\n",
    "\n",
    "#### Solution\n",
    "\n",
    "Build the parts we're going to use first."
   ]
  },
  {
   "cell_type": "code",
   "execution_count": 11,
   "metadata": {},
   "outputs": [],
   "source": [
    "from IPython.display import Math"
   ]
  },
  {
   "cell_type": "code",
   "execution_count": 12,
   "metadata": {},
   "outputs": [
    {
     "data": {
      "text/latex": [
       "$$\\mathfrak{r} = \\left[\\begin{matrix}x - {x}' & y - {y}' & z - {z}'\\end{matrix}\\right]$$"
      ],
      "text/plain": [
       "<IPython.core.display.Math object>"
      ]
     },
     "execution_count": 12,
     "metadata": {},
     "output_type": "execute_result"
    }
   ],
   "source": [
    "x,y,z,xprime,yprime,zprime = sp.symbols('x y z xprime yprime zprime')\n",
    "rr,rrmag = sp.symbols('rfrak rfrakabs')\n",
    "\n",
    "r = sp.Matrix([[x,y,z]])\n",
    "rprime = sp.Matrix([[xprime, yprime, zprime]])\n",
    "sep = r - rprime\n",
    "sepmag = sp.sqrt(sep.dot(sep))\n",
    "\n",
    "# This is to get around a quirk in the way sympy displays equations\n",
    "Math(\"{} = {}\".format(sp.latex(rr), sp.latex(sep)))"
   ]
  },
  {
   "cell_type": "code",
   "execution_count": 13,
   "metadata": {},
   "outputs": [
    {
     "data": {
      "image/png": "[encoded data removed]",
      "text/latex": [
       "$$\\left|{\\mathfrak{r}}\\right| = \\sqrt{\\left(x - {x}'\\right)^{2} + \\left(y - {y}'\\right)^{2} + \\left(z - {z}'\\right)^{2}}$$"
      ],
      "text/plain": [
       "             ___________________________________\n",
       "            ╱         2           2           2 \n",
       "|rfrak| = ╲╱  (x - x′)  + (y - y′)  + (z - z′)  "
      ]
     },
     "execution_count": 13,
     "metadata": {},
     "output_type": "execute_result"
    }
   ],
   "source": [
    "sp.Eq(rrmag, sepmag)"
   ]
  },
  {
   "cell_type": "markdown",
   "metadata": {},
   "source": [
    "Define a gradient operator for use in cartesian coordinates."
   ]
  },
  {
   "cell_type": "code",
   "execution_count": 14,
   "metadata": {},
   "outputs": [],
   "source": [
    "def gradient(expr):\n",
    "    return sp.Matrix([[expr.diff(x), expr.diff(y), expr.diff(z)]])"
   ]
  },
  {
   "cell_type": "markdown",
   "metadata": {},
   "source": [
    "Check $\\nabla\\left(|\\mathfrak{r}|^2\\right) = 2\\mathfrak{r}$"
   ]
  },
  {
   "cell_type": "code",
   "execution_count": 15,
   "metadata": {},
   "outputs": [
    {
     "data": {
      "text/plain": [
       "True"
      ]
     },
     "execution_count": 15,
     "metadata": {},
     "output_type": "execute_result"
    }
   ],
   "source": [
    "gradient(sepmag**2) == 2*sep"
   ]
  },
  {
   "cell_type": "markdown",
   "metadata": {},
   "source": [
    "Check $\\nabla\\left(1/|\\mathfrak{r}|\\right) = -\\hat{\\mathfrak{r}}/|\\mathfrak{r}|^2$"
   ]
  },
  {
   "cell_type": "code",
   "execution_count": 16,
   "metadata": {},
   "outputs": [
    {
     "data": {
      "image/png": "[encoded data removed]",
      "text/latex": [
       "$$\\left[\\begin{matrix}\\frac{- x + {x}'}{\\left(\\left(x - {x}'\\right)^{2} + \\left(y - {y}'\\right)^{2} + \\left(z - {z}'\\right)^{2}\\right)^{\\frac{3}{2}}} + \\frac{x - {x}'}{\\left(\\left(x - {x}'\\right)^{2} + \\left(y - {y}'\\right)^{2} + \\left(z - {z}'\\right)^{2}\\right)^{\\frac{3}{2}}} & \\frac{- y + {y}'}{\\left(\\left(x - {x}'\\right)^{2} + \\left(y - {y}'\\right)^{2} + \\left(z - {z}'\\right)^{2}\\right)^{\\frac{3}{2}}} + \\frac{y - {y}'}{\\left(\\left(x - {x}'\\right)^{2} + \\left(y - {y}'\\right)^{2} + \\left(z - {z}'\\right)^{2}\\right)^{\\frac{3}{2}}} & \\frac{- z + {z}'}{\\left(\\left(x - {x}'\\right)^{2} + \\left(y - {y}'\\right)^{2} + \\left(z - {z}'\\right)^{2}\\right)^{\\frac{3}{2}}} + \\frac{z - {z}'}{\\left(\\left(x - {x}'\\right)^{2} + \\left(y - {y}'\\right)^{2} + \\left(z - {z}'\\right)^{2}\\right)^{\\frac{3}{2}}}\\end{matrix}\\right]$$"
      ],
      "text/plain": [
       "⎡               -x + x′                                   x - x′              \n",
       "⎢────────────────────────────────────── + ────────────────────────────────────\n",
       "⎢                                   3/2                                      3\n",
       "⎢⎛        2           2           2⎞      ⎛        2           2           2⎞ \n",
       "⎣⎝(x - x′)  + (y - y′)  + (z - z′) ⎠      ⎝(x - x′)  + (y - y′)  + (z - z′) ⎠ \n",
       "\n",
       "                   -y + y′                                   y - y′           \n",
       "──  ────────────────────────────────────── + ─────────────────────────────────\n",
       "/2                                     3/2                                    \n",
       "    ⎛        2           2           2⎞      ⎛        2           2           \n",
       "    ⎝(x - x′)  + (y - y′)  + (z - z′) ⎠      ⎝(x - x′)  + (y - y′)  + (z - z′)\n",
       "\n",
       "                      -z + z′                                   z - z′        \n",
       "─────  ────────────────────────────────────── + ──────────────────────────────\n",
       "  3/2                                     3/2                                 \n",
       "2⎞     ⎛        2           2           2⎞      ⎛        2           2        \n",
       " ⎠     ⎝(x - x′)  + (y - y′)  + (z - z′) ⎠      ⎝(x - x′)  + (y - y′)  + (z - \n",
       "\n",
       "        ⎤\n",
       "────────⎥\n",
       "     3/2⎥\n",
       "   2⎞   ⎥\n",
       "z′) ⎠   ⎦"
      ]
     },
     "execution_count": 16,
     "metadata": {},
     "output_type": "execute_result"
    }
   ],
   "source": [
    "result_b = gradient(1/sepmag) + sep/sepmag**3\n",
    "result_b"
   ]
  },
  {
   "cell_type": "code",
   "execution_count": 17,
   "metadata": {},
   "outputs": [
    {
     "data": {
      "image/png": "[encoded data removed]",
      "text/latex": [
       "$$\\left[\\begin{matrix}0 & 0 & 0\\end{matrix}\\right]$$"
      ],
      "text/plain": [
       "[0  0  0]"
      ]
     },
     "execution_count": 17,
     "metadata": {},
     "output_type": "execute_result"
    }
   ],
   "source": [
    "sp.simplify(result_b)"
   ]
  },
  {
   "cell_type": "markdown",
   "metadata": {},
   "source": [
    "Okay, what about the general case?"
   ]
  },
  {
   "cell_type": "code",
   "execution_count": 18,
   "metadata": {},
   "outputs": [
    {
     "data": {
      "image/png": "[encoded data removed]",
      "text/latex": [
       "$$\\left[\\begin{matrix}n \\left(x - {x}'\\right) \\left(\\left(x - {x}'\\right)^{2} + \\left(y - {y}'\\right)^{2} + \\left(z - {z}'\\right)^{2}\\right)^{\\frac{n}{2} - 1} & n \\left(y - {y}'\\right) \\left(\\left(x - {x}'\\right)^{2} + \\left(y - {y}'\\right)^{2} + \\left(z - {z}'\\right)^{2}\\right)^{\\frac{n}{2} - 1} & n \\left(z - {z}'\\right) \\left(\\left(x - {x}'\\right)^{2} + \\left(y - {y}'\\right)^{2} + \\left(z - {z}'\\right)^{2}\\right)^{\\frac{n}{2} - 1}\\end{matrix}\\right]$$"
      ],
      "text/plain": [
       "⎡                                              n                              \n",
       "⎢                                              ─ - 1                          \n",
       "⎢                                              2                              \n",
       "⎢           ⎛        2           2           2⎞                  ⎛        2   \n",
       "⎣n⋅(x - x′)⋅⎝(x - x′)  + (y - y′)  + (z - z′) ⎠       n⋅(y - y′)⋅⎝(x - x′)  + \n",
       "\n",
       "                      n                                                    n  \n",
       "                      ─ - 1                                                ─ -\n",
       "                      2                                                    2  \n",
       "        2           2⎞                  ⎛        2           2           2⎞   \n",
       "(y - y′)  + (z - z′) ⎠       n⋅(z - z′)⋅⎝(x - x′)  + (y - y′)  + (z - z′) ⎠   \n",
       "\n",
       "  ⎤\n",
       " 1⎥\n",
       "  ⎥\n",
       "  ⎥\n",
       "  ⎦"
      ]
     },
     "execution_count": 18,
     "metadata": {},
     "output_type": "execute_result"
    }
   ],
   "source": [
    "n = sp.symbols('n', integer=True)\n",
    "sp.simplify(gradient(sepmag**n))"
   ]
  },
  {
   "cell_type": "markdown",
   "metadata": {},
   "source": [
    "This looks like $n\\mathfrak{r}|\\mathfrak{r}|^{n-2}$.  Let's check."
   ]
  },
  {
   "cell_type": "code",
   "execution_count": 19,
   "metadata": {},
   "outputs": [
    {
     "data": {
      "image/png": "[encoded data removed]",
      "text/latex": [
       "$$\\left[\\begin{matrix}0 & 0 & 0\\end{matrix}\\right]$$"
      ],
      "text/plain": [
       "[0  0  0]"
      ]
     },
     "execution_count": 19,
     "metadata": {},
     "output_type": "execute_result"
    }
   ],
   "source": [
    "sp.simplify(sp.simplify(gradient(sepmag**n)) - n*sep*sepmag**(n-2))"
   ]
  },
  {
   "cell_type": "markdown",
   "metadata": {},
   "source": [
    "---\n",
    "\n",
    "---\n",
    "\n",
    "\n",
    "### Problem 1.16\n",
    "\n",
    "Sketch the vector function $$\\mathbf{v} = {\\hat{\\mathbf{r}}\\over r^2} $$ and compute its divergence. The answer may surprise you. Can you explain it?\n",
    "\n",
    "---\n",
    "#### Solution\n",
    "Since we're working with a computer, we can't really sketch; we have to plot. That's not hard to do, though. Generally speaking, the most useful plot to use with vector fields is called a quiver plot. In `matplotlib` (the most commonly used python scientific plotting library), we would put together a quiver plot like this:"
   ]
  },
  {
   "cell_type": "code",
   "execution_count": 20,
   "metadata": {
    "collapsed": true
   },
   "outputs": [],
   "source": [
    "import numpy as np\n",
    "from matplotlib import pyplot as plt\n",
    "import matplotlib as mpl\n",
    "\n",
    "%matplotlib inline\n",
    "\n",
    "# set up the domain; polar coordinates make sense for this problem\n",
    "r = np.linspace(0.5, 4.5, 5)\n",
    "phi = np.linspace(0, 2*np.pi, 10, endpoint=False)\n",
    "\n",
    "R,Phi = np.meshgrid(r,phi)\n",
    "\n",
    "# convert to cartesian for the plot\n",
    "X = R*np.cos(Phi)\n",
    "Y = R*np.sin(Phi)\n",
    "\n",
    "# We will assume z=0 for all of this, so we can leave it out.\n",
    "x,y = sp.symbols('x y')\n",
    "rvec = sp.Matrix([[x, y]])\n",
    "rmag = sp.sqrt(rvec.dot(rvec))\n",
    "rhat = rvec/rmag\n",
    "\n",
    "v = rhat/rmag**2"
   ]
  },
  {
   "cell_type": "code",
   "execution_count": 21,
   "metadata": {},
   "outputs": [],
   "source": [
    "v_x = v[0]\n",
    "v_y = v[1]\n",
    "\n",
    "v_x_func = sp.lambdify((x,y), v_x)\n",
    "v_y_func = sp.lambdify((x,y), v_y)"
   ]
  },
  {
   "cell_type": "code",
   "execution_count": 22,
   "metadata": {},
   "outputs": [
    {
     "data": {
      "text/plain": [
       "<matplotlib.quiver.Quiver at 0x115b7eb70>"
      ]
     },
     "execution_count": 22,
     "metadata": {},
     "output_type": "execute_result"
    },
    {
     "data": {
      "image/png": "[encoded data removed]",
      "text/plain": [
       "<matplotlib.figure.Figure at 0x1135daf28>"
      ]
     },
     "metadata": {},
     "output_type": "display_data"
    }
   ],
   "source": [
    "U = v_x_func(X, Y)\n",
    "V = v_y_func(X, Y)\n",
    "\n",
    "fig = plt.figure(figsize=(10,10))\n",
    "plt.quiver(X, Y, U, V, color='green', alpha=0.3)"
   ]
  },
  {
   "cell_type": "markdown",
   "metadata": {},
   "source": [
    "Quiver plots are tricky, because you often have the problem that you're comparing things with very different magnitudes. You can see a number of locations in the above plots where there is just a dot instead of an arrow, and there is a ring of arrowheads without stems (indicating rather short arrows, but not short enough to just be dots).\n",
    "\n",
    "There are, of course, other strategies for plotting the magnitudes of vectors. Two relatively common ones are (a) tying the magnitude to a color, and (b) tying the magnitude to opacity. I'm not going to explore either of those options here primarily because we're just interested in getting a sense for the shape of the vector field (hence the word \"sketch\" in the problem description) and we can get that from the plot I've already made.\n",
    "\n",
    "This looks similar to our canonical divergence field, though the arrows are getting shorter as they go out from the center. What is the calculated divergence?"
   ]
  },
  {
   "cell_type": "code",
   "execution_count": 23,
   "metadata": {},
   "outputs": [],
   "source": [
    "def cartesian_div(vector_field):\n",
    "    \n",
    "    x,y,z = sp.symbols('x y z')\n",
    "    \n",
    "    return sp.diff(vector_field[0], x) + sp.diff(vector_field[1], y) + sp.diff(vector_field[2], z)"
   ]
  },
  {
   "cell_type": "markdown",
   "metadata": {},
   "source": [
    "Since I've defined my divergence in three dimensions, I need to redefine my field in three dimensions, too."
   ]
  },
  {
   "cell_type": "code",
   "execution_count": 24,
   "metadata": {},
   "outputs": [
    {
     "data": {
      "image/png": "[encoded data removed]",
      "text/latex": [
       "$$- \\frac{3 x^{2}}{\\left(x^{2} + y^{2} + z^{2}\\right)^{\\frac{5}{2}}} - \\frac{3 y^{2}}{\\left(x^{2} + y^{2} + z^{2}\\right)^{\\frac{5}{2}}} - \\frac{3 z^{2}}{\\left(x^{2} + y^{2} + z^{2}\\right)^{\\frac{5}{2}}} + \\frac{3}{\\left(x^{2} + y^{2} + z^{2}\\right)^{\\frac{3}{2}}}$$"
      ],
      "text/plain": [
       "            2                   2                   2                         \n",
       "         3⋅x                 3⋅y                 3⋅z                  3       \n",
       "- ───────────────── - ───────────────── - ───────────────── + ────────────────\n",
       "                5/2                 5/2                 5/2                 3/\n",
       "  ⎛ 2    2    2⎞      ⎛ 2    2    2⎞      ⎛ 2    2    2⎞      ⎛ 2    2    2⎞  \n",
       "  ⎝x  + y  + z ⎠      ⎝x  + y  + z ⎠      ⎝x  + y  + z ⎠      ⎝x  + y  + z ⎠  \n",
       "\n",
       " \n",
       " \n",
       "─\n",
       "2\n",
       " \n",
       " "
      ]
     },
     "execution_count": 24,
     "metadata": {},
     "output_type": "execute_result"
    }
   ],
   "source": [
    "x,y,z = sp.symbols('x y z')\n",
    "rvec = sp.Matrix([[x, y, z]])\n",
    "rmag = sp.sqrt(rvec.dot(rvec))\n",
    "rhat = rvec/rmag\n",
    "v = rhat/rmag**2\n",
    "\n",
    "cartesian_div(v)"
   ]
  },
  {
   "cell_type": "code",
   "execution_count": 25,
   "metadata": {},
   "outputs": [
    {
     "data": {
      "image/png": "[encoded data removed]",
      "text/latex": [
       "$$0$$"
      ],
      "text/plain": [
       "0"
      ]
     },
     "execution_count": 25,
     "metadata": {},
     "output_type": "execute_result"
    }
   ],
   "source": [
    "sp.simplify(cartesian_div(v))"
   ]
  },
  {
   "cell_type": "markdown",
   "metadata": {},
   "source": [
    "So the divergence is zero. Now, clearly there's some divergence at $\\mathbf{r}=0$, because the field has to come from somewhere. So what gives?\n",
    "\n",
    "The trick is that you're dividing by zero at the origin, so things break down there, and we have to use a different approach (essentially equivalent to using L'Hospital's rule) to calculate the divergence there.\n",
    "\n",
    "--- \n",
    "\n",
    "---\n",
    "\n",
    "### Problem 1.19\n",
    "\n",
    "Draw a circle in the $xy$ plane. At a few representative points draw the vector $\\mathbf{v}$ tangent to the circle, pointing in the clockwise direction. By comparing  adjacent vectors, determine the sign of $\\partial v_x/\\partial y$ and $\\partial v_y/\\partial x$. According to Eq. 1.41, then, what is the direction of $\\nabla\\times \\mathbf{v}$? Explain how this example illustrates the geometrical interpretation of the curl.\n",
    "\n",
    "---\n",
    "\n",
    "#### Solution\n",
    "\n",
    "I wanted to do this problem mostly to show how to use matplotlib drawing features. In this case, I'm employing a patch collection, with the circle and arrows as individual patches within that collection."
   ]
  },
  {
   "cell_type": "code",
   "execution_count": 26,
   "metadata": {},
   "outputs": [
    {
     "data": {
      "image/png": "[encoded data removed]",
      "text/plain": [
       "<matplotlib.figure.Figure at 0x115b52c50>"
      ]
     },
     "metadata": {},
     "output_type": "display_data"
    }
   ],
   "source": [
    "import matplotlib.patches as mpatches\n",
    "from matplotlib.collections import PatchCollection\n",
    "\n",
    "# radius is only really relevant in comparison to the width\n",
    "# of the arrows (1 by default)\n",
    "radius = 10\n",
    "\n",
    "# \"a few representative points\"\n",
    "phi = np.linspace(0, 2*np.pi, 10, endpoint=False)\n",
    "\n",
    "# I played with this a bit; this looks good to me.\n",
    "arrowlen = 0.5 * radius\n",
    "\n",
    "# create the circle centered at the origin\n",
    "circle = mpatches.Circle((0,0), radius=radius)\n",
    "\n",
    "# make the body of the circle transparent white\n",
    "circle.set_facecolor((1,1,1,0))\n",
    "# and the edge slightly translucent gray\n",
    "circle.set_edgecolor((0.2, 0.2, 0.2, 0.8))\n",
    "\n",
    "# add the circle to our list of patches\n",
    "patches = [circle,]\n",
    "\n",
    "# draw an arrow at each of our representative points\n",
    "for angle in phi:\n",
    "    # location of the tail\n",
    "    x = radius * np.cos(angle)\n",
    "    y = radius * np.sin(angle)\n",
    "    # vector to the tip\n",
    "    # inspection after plotting verifies that this gives clockwise arrows\n",
    "    dx = arrowlen * np.sin(angle)\n",
    "    dy = -arrowlen * np.cos(angle)\n",
    "\n",
    "    # make the arrow\n",
    "    arrow = mpatches.Arrow(x, y, dx, dy)\n",
    "    # add it to the list of patches\n",
    "    patches.append(arrow)\n",
    "    \n",
    "# make our plotting window    \n",
    "fig, ax = plt.subplots(figsize=(10,10))\n",
    "\n",
    "# build the collection out of the individual pieces,\n",
    "# making sure that the styling doesn't get clobbered\n",
    "collection = PatchCollection(patches, match_original=True)\n",
    "\n",
    "# put the patch collection into the plot\n",
    "ax.add_collection(collection)\n",
    "\n",
    "# make the circle take up most of the figure area\n",
    "ax.set_xlim((-1.2*radius,1.2*radius))\n",
    "ax.set_ylim((-1.2*radius,1.2*radius))\n",
    "\n",
    "# I don't need axes for a picture\n",
    "ax.set_axis_off()"
   ]
  },
  {
   "cell_type": "markdown",
   "metadata": {},
   "source": [
    "By observation, going from left to right on the bottom half of the circle, $${\\partial v_y\\over\\partial x} = \\text{negative}$$ and going from bottom to top on the right side of the circle, $${\\partial v_x\\over\\partial y} = \\text{positive}.$$ Therefore, the overall curl is in the negative $z$ direction."
   ]
  },
  {
   "cell_type": "code",
   "execution_count": null,
   "metadata": {
    "collapsed": true
   },
   "outputs": [],
   "source": []
  }
 ],
 "metadata": {
  "kernelspec": {
   "display_name": "Python 3",
   "language": "python",
   "name": "python3"
  },
  "language_info": {
   "codemirror_mode": {
    "name": "ipython",
    "version": 3
   },
   "file_extension": ".py",
   "mimetype": "text/x-python",
   "name": "python",
   "nbconvert_exporter": "python",
   "pygments_lexer": "ipython3",
   "version": "3.5.3"
  }
 },
 "nbformat": 4,
 "nbformat_minor": 2
}
