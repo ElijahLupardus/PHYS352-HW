{
 "cells": [
  {
   "cell_type": "code",
   "execution_count": 1,
<<<<<<< HEAD
   "metadata": {},
   "outputs": [
    {
     "data": {
      "text/plain": [
       "'1.1.1'"
      ]
     },
     "execution_count": 1,
     "metadata": {},
     "output_type": "execute_result"
    }
   ],
   "source": [
    "import sympy as sp\n",
    "from sympy import vector\n",
    "\n",
    "sp.init_printing()\n",
    "sp.__version__"
   ]
  },
  {
   "cell_type": "code",
   "execution_count": 2,
=======
>>>>>>> refs/remotes/origin/master
   "metadata": {
    "collapsed": true
   },
   "outputs": [],
   "source": [
    "## Cartesian coordinates\n",
    "\n",
    "C = vector.CoordSys3D('', vector_names=['x', \"y\", \"z\"],\n",
    "                     variable_names=['x', \"y\", \"z\"])\n",
    "\n",
    "xhat = C.i\n",
    "yhat = C.j\n",
    "zhat = C.k\n",
    "x = C.x\n",
    "y = C.y\n",
    "z = C.z\n",
    "\n"
   ]
  },
  {
   "cell_type": "markdown",
   "metadata": {},
   "source": [
    "### Problem 1.25"
   ]
  },
  {
   "cell_type": "markdown",
   "metadata": {
    "collapsed": true
   },
   "source": [
    "Check product rules by ca;culating each term separately for the functions\n",
    "\n",
    "A = x*xhat + 2y*yhat + 3z*zhat\n",
    "\n",
    "B = 3y*xhat - 2x*yhat"
   ]
  },
  {
   "cell_type": "code",
   "execution_count": 2,
   "metadata": {
    "collapsed": false
   },
   "outputs": [],
   "source": [
    "C = vector.CoordSys3D('', vector_names=['x', \"y\", \"z\"],\n",
    "                     variable_names=['x', \"y\", \"z\"])\n",
    "\n",
    "xhat = C.i\n",
    "yhat = C.j\n",
    "zhat = C.k\n",
    "x = C.x\n",
    "y = C.y\n",
    "z = C.z\n",
    "\n",
    "A = x*xhat +2*y*yhat + 3*z*zhat\n",
    "\n",
    "B = 3*y*xhat - 2*x*yhat"
   ]
  },
  {
   "cell_type": "markdown",
   "metadata": {},
   "source": [
    "a) Product Rule 4: div(A dot B) = A x (curl(B)) + B x (curl(A)) + (A dot del)B + (B dot del)A"
   ]
  },
  {
   "cell_type": "code",
   "execution_count": 3,
   "metadata": {
    "collapsed": false
   },
   "outputs": [],
   "source": [
    "lhs_4 = vector.divergence(A.cross(B))\n",
    "\n",
    "rhs_4 = B.dot(vector.curl(A)) - A.dot(vector.curl(B))"
   ]
  },
  {
   "cell_type": "code",
   "execution_count": 4,
   "metadata": {
    "collapsed": false
   },
   "outputs": [
    {
     "data": {
      "image/png": "iVBORw0KGgoAAAANSUhEUgAAAAwAAAASCAYAAABvqT8MAAAABHNCSVQICAgIfAhkiAAAANtJREFU\nKJHN0r0uhEEUxvGf9VWItTYahSgQPYV2SxfBBbiAbfSidSE60e4trASNjghZGiHbEFnFzpscb84W\nOqd5cp6Z/5nJzMMfa6rWb+MU9xhhBV0MMngJjzgI3jFuMJcBJ3jBTPDa+MJRBtzhIvGv0auaRtFF\nbOEhAZ6wWwfWi74nwBBNzEegWfRzAgCtCHwXHSXAbNHpCLwmG6taKPoRgUGZvjwBeKsDQ/SxlgCb\nuKqaRli4xJ7fcdkoQ86zu66Wow+Dd4ZbIRoxBs/oGEdkx/gz29iXP/d/qR8UhCWn2ReXCwAAAABJ\nRU5ErkJggg==\n",
      "text/latex": [
       "$$0$$"
      ],
      "text/plain": [
       "0"
      ]
     },
     "execution_count": 4,
     "metadata": {},
     "output_type": "execute_result"
    }
   ],
   "source": [
    "Product_Rule_4 = sp.simplify(lhs_4 - rhs_4)\n",
    "Product_Rule_4"
   ]
  },
  {
   "cell_type": "markdown",
   "metadata": {
    "collapsed": true
   },
   "source": [
    "b) Do the same for Product Rule 2"
   ]
  },
  {
   "cell_type": "code",
   "execution_count": 4,
   "metadata": {
    "collapsed": false
   },
   "outputs": [
    {
     "ename": "TypeError",
     "evalue": "'VectorAdd' object does not support indexing",
     "output_type": "error",
     "traceback": [
      "\u001b[1;31m---------------------------------------------------------------------------\u001b[0m",
      "\u001b[1;31mTypeError\u001b[0m                                 Traceback (most recent call last)",
      "\u001b[1;32m<ipython-input-4-05ebc15e07a2>\u001b[0m in \u001b[0;36m<module>\u001b[1;34m()\u001b[0m\n\u001b[0;32m      1\u001b[0m \u001b[0mlhs_2\u001b[0m \u001b[1;33m=\u001b[0m \u001b[0mvector\u001b[0m\u001b[1;33m.\u001b[0m\u001b[0mgradient\u001b[0m\u001b[1;33m(\u001b[0m\u001b[0mA\u001b[0m\u001b[1;33m.\u001b[0m\u001b[0mdot\u001b[0m\u001b[1;33m(\u001b[0m\u001b[0mB\u001b[0m\u001b[1;33m)\u001b[0m\u001b[1;33m)\u001b[0m\u001b[1;33m\u001b[0m\u001b[0m\n\u001b[0;32m      2\u001b[0m \u001b[1;33m\u001b[0m\u001b[0m\n\u001b[1;32m----> 3\u001b[1;33m \u001b[0mrhs_2\u001b[0m \u001b[1;33m=\u001b[0m \u001b[0mA\u001b[0m\u001b[1;33m.\u001b[0m\u001b[0mcross\u001b[0m\u001b[1;33m(\u001b[0m\u001b[0mvector\u001b[0m\u001b[1;33m.\u001b[0m\u001b[0mcurl\u001b[0m\u001b[1;33m(\u001b[0m\u001b[0mB\u001b[0m\u001b[1;33m)\u001b[0m\u001b[1;33m)\u001b[0m \u001b[1;33m+\u001b[0m \u001b[0mB\u001b[0m\u001b[1;33m.\u001b[0m\u001b[0mcross\u001b[0m\u001b[1;33m(\u001b[0m\u001b[0mvector\u001b[0m\u001b[1;33m.\u001b[0m\u001b[0mcurl\u001b[0m\u001b[1;33m(\u001b[0m\u001b[0mA\u001b[0m\u001b[1;33m)\u001b[0m\u001b[1;33m)\u001b[0m \u001b[1;33m+\u001b[0m \u001b[0mA\u001b[0m\u001b[1;33m[\u001b[0m\u001b[1;36m0\u001b[0m\u001b[1;33m]\u001b[0m\u001b[1;33m*\u001b[0m\u001b[0msp\u001b[0m\u001b[1;33m.\u001b[0m\u001b[0mdiff\u001b[0m\u001b[1;33m(\u001b[0m\u001b[0mB\u001b[0m\u001b[1;33m,\u001b[0m\u001b[0mx\u001b[0m\u001b[1;33m)\u001b[0m \u001b[1;33m+\u001b[0m \u001b[0mA\u001b[0m\u001b[1;33m[\u001b[0m\u001b[1;36m1\u001b[0m\u001b[1;33m]\u001b[0m\u001b[1;33m*\u001b[0m\u001b[0msp\u001b[0m\u001b[1;33m.\u001b[0m\u001b[0mdiff\u001b[0m\u001b[1;33m(\u001b[0m\u001b[0mB\u001b[0m\u001b[1;33m,\u001b[0m\u001b[0my\u001b[0m\u001b[1;33m)\u001b[0m \u001b[1;33m+\u001b[0m \u001b[0mA\u001b[0m\u001b[1;33m[\u001b[0m\u001b[1;36m2\u001b[0m\u001b[1;33m]\u001b[0m\u001b[1;33m*\u001b[0m\u001b[0msp\u001b[0m\u001b[1;33m.\u001b[0m\u001b[0mdiff\u001b[0m\u001b[1;33m(\u001b[0m\u001b[0mB\u001b[0m\u001b[1;33m,\u001b[0m\u001b[0mz\u001b[0m\u001b[1;33m)\u001b[0m\u001b[1;33m\u001b[0m\u001b[0m\n\u001b[0m\u001b[0;32m      4\u001b[0m \u001b[1;33m+\u001b[0m \u001b[0mB\u001b[0m\u001b[1;33m[\u001b[0m\u001b[1;36m0\u001b[0m\u001b[1;33m]\u001b[0m\u001b[1;33m*\u001b[0m\u001b[0msp\u001b[0m\u001b[1;33m.\u001b[0m\u001b[0mdiff\u001b[0m\u001b[1;33m(\u001b[0m\u001b[0mA\u001b[0m\u001b[1;33m,\u001b[0m\u001b[0mx\u001b[0m\u001b[1;33m)\u001b[0m \u001b[1;33m+\u001b[0m \u001b[0mB\u001b[0m\u001b[1;33m[\u001b[0m\u001b[1;36m1\u001b[0m\u001b[1;33m]\u001b[0m\u001b[1;33m*\u001b[0m\u001b[0msp\u001b[0m\u001b[1;33m.\u001b[0m\u001b[0mdiff\u001b[0m\u001b[1;33m(\u001b[0m\u001b[0mA\u001b[0m\u001b[1;33m,\u001b[0m\u001b[0my\u001b[0m\u001b[1;33m)\u001b[0m \u001b[1;33m+\u001b[0m \u001b[0mB\u001b[0m\u001b[1;33m[\u001b[0m\u001b[1;36m2\u001b[0m\u001b[1;33m]\u001b[0m\u001b[1;33m*\u001b[0m\u001b[0msp\u001b[0m\u001b[1;33m.\u001b[0m\u001b[0mdiff\u001b[0m\u001b[1;33m(\u001b[0m\u001b[0mA\u001b[0m\u001b[1;33m,\u001b[0m\u001b[0mz\u001b[0m\u001b[1;33m)\u001b[0m\u001b[1;33m\u001b[0m\u001b[0m\n",
      "\u001b[1;31mTypeError\u001b[0m: 'VectorAdd' object does not support indexing"
     ]
    }
   ],
   "source": [
    "lhs_2 = vector.gradient(A.dot(B))\n",
    "\n",
    "rhs_2 = A.cross(vector.curl(B)) + B.cross(vector.curl(A)) + A[0]*sp.diff(B,x) + A[1]*sp.diff(B,y) + A[2]*sp.diff(B,z)\n",
    "+ B[0]*sp.diff(A,x) + B[1]*sp.diff(A,y) + B[2]*sp.diff(A,z)\n",
    "\n",
    "#This does not work this way. Right idea wrong syntax I think. "
   ]
  },
  {
   "cell_type": "code",
   "execution_count": 23,
   "metadata": {
    "collapsed": true
   },
   "outputs": [],
   "source": [
    "A = x*xhat + 2*y*yhat +3*z*zhat\n",
    "B = 3*y*xhat - 2*x*yhat\n",
    "\n"
   ]
  },
  {
   "cell_type": "code",
   "execution_count": null,
   "metadata": {
    "collapsed": true
   },
   "outputs": [],
   "source": []
  },
  {
   "cell_type": "markdown",
   "metadata": {},
   "source": [
    "### Problem 1.26\n"
   ]
  },
  {
   "cell_type": "code",
   "execution_count": 4,
   "metadata": {},
   "outputs": [],
   "source": [
    "T_a = x**2 + 2*x*y + 3*z + 4\n",
    "v = x**2 *xhat + 3*x*z**2*yhat - 2*x*z*zhat"
   ]
  },
  {
   "cell_type": "code",
   "execution_count": 5,
   "metadata": {},
   "outputs": [
    {
     "data": {
      "image/png": "iVBORw0KGgoAAAANSUhEUgAAAAkAAAAOBAMAAAAPuiubAAAALVBMVEX///8AAAAAAAAAAAAAAAAA\nAAAAAAAAAAAAAAAAAAAAAAAAAAAAAAAAAAAAAADAOrOgAAAADnRSTlMAIpm7MhCriUTv3c12VLge\nopIAAAAJcEhZcwAADsQAAA7EAZUrDhsAAABOSURBVAgdY2BUMnZgYAhjYH/BwJDKwDCTgWEWA0Oe\nA8O+ABAJBOsCgATHcxCTKwFEKoEIHgUQeYmBUYCBRYGBR4BBqrwoi4Fh37t3rxgAK5QOlzv7snYA\nAAAASUVORK5CYII=\n",
      "text/latex": [
       "$$2$$"
      ],
      "text/plain": [
       "2"
      ]
     },
     "execution_count": 5,
     "metadata": {},
     "output_type": "execute_result"
    }
   ],
   "source": [
    "vector.divergence(vector.gradient(T_a))"
   ]
  },
  {
   "cell_type": "code",
   "execution_count": 20,
   "metadata": {},
   "outputs": [
    {
     "data": {
      "image/png": "iVBORw0KGgoAAAANSUhEUgAAAAsAAAAUBAMAAACpAtpbAAAAMFBMVEX///8AAAAAAAAAAAAAAAAA\nAAAAAAAAAAAAAAAAAAAAAAAAAAAAAAAAAAAAAAAAAAAv3aB7AAAAD3RSTlMAECLdzUTvdokyq1S7\nZplGI+whAAAACXBIWXMAAA7EAAAOxAGVKw4bAAAAdElEQVQIHWNgYGBkAANlRxDFmmKmAKTkCzgS\ngBRQSgBIcS7xmgCk6hukfjMwMH1jYPgvwMDxh4HB/gIDC5A6v4CB/xeQMoBQCQz8/4C8D3AeUM4/\nAazS/wAD3xegvgIGzm8MjP8VGBjeN/B9BxrN62aygQEAWs0g1zE70agAAAAASUVORK5CYII=\n",
      "text/latex": [
       "$$\\mathbf{\\hat{0}}$$"
      ],
      "text/plain": [
       "0"
      ]
     },
     "execution_count": 20,
     "metadata": {},
     "output_type": "execute_result"
    }
   ],
   "source": [
    "vector.curl(vector.curl(v)) # curl of curl zero... bug?"
   ]
  },
  {
   "cell_type": "code",
   "execution_count": 21,
   "metadata": {},
   "outputs": [],
   "source": [
    "laplacian = (sp.diff(v.components[xhat], x, 2)*xhat + \n",
    "             sp.diff(v.components[yhat], y, 2)*yhat + \n",
    "             sp.diff(v.components[zhat], z, 2)*zhat)"
   ]
  },
  {
   "cell_type": "code",
   "execution_count": 22,
   "metadata": {},
   "outputs": [
    {
     "data": {
      "image/png": "iVBORw0KGgoAAAANSUhEUgAAACUAAAAVBAMAAAAzyjqdAAAAMFBMVEX///8AAAAAAAAAAAAAAAAA\nAAAAAAAAAAAAAAAAAAAAAAAAAAAAAAAAAAAAAAAAAAAv3aB7AAAAD3RSTlMAIma7zZnddlTvRIky\nEKtZsEGBAAAACXBIWXMAAA7EAAAOxAGVKw4bAAABD0lEQVQYGVWQL08DQRDFf9e0TctxlxJCdQUf\nABAoEoLlT3IJQZHASQhJUwQah65AYajCtgaFOIXmBKaq5TNgSqAsb/Z6gpfszL43M2+zA/8QFSzo\n+FxpWWofebIKa8c78CG2dH/pS3tEU7IB79ImvbCvVEmIc5p9wh7ILpdWb9FMiX+IrKNAG6pz09jn\n1s0a7hNufKk+hxM4T+lqeMtrwxGsa+I33BC/8FpX8Q6Cx2218WBaLVF40xnOjHrNm5o2/rI+m20k\nrMCTbge75mdvvMK1f6M2HX+LP8v56uUshVOiLF92Az9Rdc5JOyRzo9i5lv2tQCB5Ae2ggO2gxObi\nYrsqoZ16lDUjQUdBeyx94Q+F7D6yAd1mdwAAAABJRU5ErkJggg==\n",
      "text/latex": [
       "$$(2)\\mathbf{\\hat{x}_{}}$$"
      ],
      "text/plain": [
       "(2) _x"
      ]
     },
     "execution_count": 22,
     "metadata": {},
     "output_type": "execute_result"
    }
   ],
   "source": [
    "laplacian"
   ]
  },
  {
   "cell_type": "markdown",
   "metadata": {},
   "source": [
    "### Problem 1.31\n",
    "\n",
    "Calculate the volume integral of the function $T=z^2$ over the tetrahedron with corners at $(0,0,0)$, $(1,0,0)$, $(0,1,0)$, and $(0,0,1)$"
   ]
  },
  {
   "cell_type": "code",
   "execution_count": 3,
   "metadata": {
    "collapsed": false
   },
   "outputs": [
    {
     "data": {
      "image/png": "iVBORw0KGgoAAAANSUhEUgAAACAAAAAZCAYAAABQDyyRAAAABHNCSVQICAgIfAhkiAAAAbVJREFU\nSInt1rtrFUEUBvBfooYYTCwUsTKFogmID1AR7WyDEGJnQIKNoAhpLS20sRTEzguKDxARRUUtRCQQ\nSPAtiiD+AQo+EIWgxmJmYXNzd+9sEgyEfDAsfGfmO485c1gWGAbm03kPblY9tLSA78AotlTQOogr\nddxuHMEvLI/rFF6VCe3EGCYrOIen0UGG7biF9hx3Dt+xLSNac8Ze3MEx/KnofBfeCJlmOIT9cWW4\ni04cbhTAW/RhCO8qBjCIy3XcMyHbbzmuM35/NhOsSb+CJXipuJ/yOIPf2JoRrcV7k7EPT6JwGdYL\n1T2OF81Ea9IrcAF7S+z9OIv3OIGWFNHUANrxPFG0DY8wglUZOdsr6MM9acFO4CT24HyzzbVE0evY\nXGDrMX2QdUXdv1hBWucWYSXW4XUDW5fwDJdhEz5EPpsvLcLrmdUVHMCNAtuEkNxHfMnxvfE7bup8\nmIarQqk6SvY8QHeJ/TSGTW3Qi/iBHY0OrMF9oaSTcX0SOnewbu9aPC5xnmFISOYSHuIaNiaca4ph\nHJ0LoZliBKvnQmgmTbgBX/F5vgJo9OPxX3FbHCKLWBD4B88UUSaQCnxlAAAAAElFTkSuQmCC\n",
      "text/latex": [
       "$$\\frac{1}{3}$$"
      ],
      "text/plain": [
       "1/3"
      ]
     },
     "execution_count": 3,
     "metadata": {},
     "output_type": "execute_result"
    }
   ],
   "source": [
    "Volume_Integral = sp.integrate(sp.integrate(sp.integrate(z**2, (x,0,1)), (y,0,1)), (z,0,1))\n",
    "Volume_Integral"
   ]
  },
  {
   "cell_type": "markdown",
   "metadata": {},
   "source": [
    "### Problem 1.33\n",
    "\n",
    "Test the divergence theorem for the function $\\mathbf{v} = (xy)\\hat{\\mathbf{x}} + (2yz)\\hat{\\mathbf{y}} + (3zx)\\hat{\\mathbf{z}}$. Take as your volume the cube shown in fig. 1.30, with sides of length 2."
   ]
  },
  {
   "cell_type": "code",
   "execution_count": 8,
   "metadata": {
    "collapsed": false
   },
   "outputs": [
    {
     "data": {
      "image/png": "iVBORw0KGgoAAAANSUhEUgAAAN4AAAAZCAYAAABeipC7AAAABHNCSVQICAgIfAhkiAAABgZJREFU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\nbGaZQN7sOgAAAABJRU5ErkJggg==\n",
      "text/latex": [
       "$$(\\mathbf{{x}_{}} \\mathbf{{y}_{}})\\mathbf{\\hat{x}_{}} + (2 \\mathbf{{y}_{}} \\mathbf{{z}_{}})\\mathbf{\\hat{y}_{}} + (3 \\mathbf{{x}_{}} \\mathbf{{z}_{}})\\mathbf{\\hat{z}_{}}$$"
      ],
      "text/plain": [
       "(_x⋅_y) _x + (2⋅_y⋅_z) _y + (3⋅_x⋅_z) _z"
      ]
     },
     "execution_count": 8,
     "metadata": {},
     "output_type": "execute_result"
    }
   ],
   "source": [
    "C = vector.CoordSys3D('', vector_names=['x', \"y\", \"z\"],\n",
    "                     variable_names=['x', \"y\", \"z\"])\n",
    "\n",
    "xhat = C.i\n",
    "yhat = C.j\n",
    "zhat = C.k\n",
    "x = C.x\n",
    "y = C.y\n",
    "z = C.z\n",
    "\n",
    "v = x*y*xhat + 2*y*z*yhat + 3*z*x*zhat\n",
    "v"
   ]
  },
  {
   "cell_type": "code",
   "execution_count": 9,
   "metadata": {
    "collapsed": false
   },
   "outputs": [
    {
     "data": {
      "image/png": "iVBORw0KGgoAAAANSUhEUgAAABYAAAASCAYAAABfJS4tAAAABHNCSVQICAgIfAhkiAAAAWpJREFU\nOI3t1L9LVWEcBvDPFa5XMsNwMRCsxEFI6Q8IybZ0keYgiKCaTHAwXFxEN4emSAQrpGhpcWhIF6Eh\nKKIlB2sRzUkHA1vS4X2vnM5979HFzWc55zzfh+f5nu/7g1NC6Zj6GMqYzvEdeIoDVHAOM/h+ktBO\n/MFkjm/De1zKcFewhu4q0VBgPBE7yeM+PmIrw/3CAh4cZ3wHy3VqV3Erwe8LY6uL85iL7wdqR/Ew\n8ou4GLkKvqCvyHgKXQXGFXyOtS3cxWvczoryo7iOPawXBP8VRvEB7XiF1thxEg3CAjRmuFTHMI4X\nGMLPTPe9KePHGMhxKeNRLGW+mzGLf/iWN23Hs0RY3riEHVxLaB9FfU9VSFiAe8KBqKKMQWHj/8BL\nrGIbTcKssyhhFzfxNRF8hMt1Ov6NGwl9CzaEXVN48sq5pxg0gucxuIoLmMcTtX/yn2gFm9FoH58w\nnNH0C/fFW7zBO2EEZ6jFIV3ESWlb2zDSAAAAAElFTkSuQmCC\n",
      "text/latex": [
       "$$48$$"
      ],
      "text/plain": [
       "48"
      ]
     },
     "execution_count": 9,
     "metadata": {},
     "output_type": "execute_result"
    }
   ],
   "source": [
    "div_v = vector.divergence(v)\n",
    "vol_integral = sp.integrate(sp.integrate(sp.integrate(div_v, \n",
    "                                                      (x,0,2)), \n",
    "                                         (y, 0, 2)), \n",
    "                            (z, 0, 2))\n",
    "vol_integral"
   ]
  },
  {
   "cell_type": "code",
   "execution_count": 10,
   "metadata": {
    "collapsed": false
   },
   "outputs": [
    {
     "data": {
      "image/png": "iVBORw0KGgoAAAANSUhEUgAAABYAAAASCAYAAABfJS4tAAAABHNCSVQICAgIfAhkiAAAAWpJREFU\nOI3t1L9LVWEcBvDPFa5XMsNwMRCsxEFI6Q8IybZ0keYgiKCaTHAwXFxEN4emSAQrpGhpcWhIF6Eh\nKKIlB2sRzUkHA1vS4X2vnM5979HFzWc55zzfh+f5nu/7g1NC6Zj6GMqYzvEdeIoDVHAOM/h+ktBO\n/MFkjm/De1zKcFewhu4q0VBgPBE7yeM+PmIrw/3CAh4cZ3wHy3VqV3Erwe8LY6uL85iL7wdqR/Ew\n8ou4GLkKvqCvyHgKXQXGFXyOtS3cxWvczoryo7iOPawXBP8VRvEB7XiF1thxEg3CAjRmuFTHMI4X\nGMLPTPe9KePHGMhxKeNRLGW+mzGLf/iWN23Hs0RY3riEHVxLaB9FfU9VSFiAe8KBqKKMQWHj/8BL\nrGIbTcKssyhhFzfxNRF8hMt1Ov6NGwl9CzaEXVN48sq5pxg0gucxuIoLmMcTtX/yn2gFm9FoH58w\nnNH0C/fFW7zBO2EEZ6jFIV3ESWlb2zDSAAAAAElFTkSuQmCC\n",
      "text/latex": [
       "$$48$$"
      ],
      "text/plain": [
       "48"
      ]
     },
     "execution_count": 10,
     "metadata": {},
     "output_type": "execute_result"
    }
   ],
   "source": [
    "top = sp.integrate(sp.integrate( v.dot(zhat), (x, 0,2)), (y,0,2)).subs(z, 2)\n",
    "bottom = -sp.integrate(sp.integrate( v.dot(zhat), (x, 0,2)), (y,0,2)).subs(z, 0)\n",
    "front = sp.integrate(sp.integrate( v.dot(zhat), (z, 0,2)), (y,0,2)).subs(x, 2)\n",
    "back = -sp.integrate(sp.integrate( v.dot(zhat), (z, 0,2)), (y,0,2)).subs(x, 0)\n",
    "left = -sp.integrate(sp.integrate( v.dot(zhat), (x, 0,2)), (z,0,2)).subs(y, 0)\n",
    "right = sp.integrate(sp.integrate( v.dot(zhat), (x, 0,2)), (z,0,2)).subs(y, 2)\n",
    "\n",
    "surface_integral = top+bottom+left+right+front+back\n",
    "surface_integral"
   ]
  },
  {
   "cell_type": "code",
   "execution_count": 11,
   "metadata": {
    "collapsed": false
   },
   "outputs": [
    {
     "data": {
      "text/plain": [
       "True"
      ]
     },
     "execution_count": 11,
     "metadata": {},
     "output_type": "execute_result"
    }
   ],
   "source": [
    "vol_integral == surface_integral"
   ]
  },
  {
   "cell_type": "markdown",
   "metadata": {
    "collapsed": true
   },
   "source": []
  },
  {
   "cell_type": "code",
   "execution_count": 12,
   "metadata": {
    "collapsed": false
   },
   "outputs": [],
   "source": []
  },
  {
   "cell_type": "code",
   "execution_count": null,
   "metadata": {
    "collapsed": true
   },
   "outputs": [],
   "source": []
  },
  {
   "cell_type": "code",
   "execution_count": null,
   "metadata": {
    "collapsed": true
   },
   "outputs": [],
   "source": []
  },
  {
   "cell_type": "code",
   "execution_count": null,
   "metadata": {
    "collapsed": true
   },
   "outputs": [],
   "source": []
  },
  {
   "cell_type": "markdown",
   "metadata": {},
   "source": [
    "### Problem 1.34\n",
    "Test Stokes' theorem for the function $\\mathbf{v} = (xy)\\hat{\\mathbf{x}} + (2yz)\\hat{\\mathbf{y}} + (3zx)\\hat{\\mathbf{z}}$, using the triangular shaded area of fig. 1.34\n",
    "\n",
    "---\n",
    "#### Solution:\n",
    "$\\mathbf{v}$ is the same as in the last problem, so we can reuse it. "
   ]
  },
  {
   "cell_type": "code",
   "execution_count": 13,
   "metadata": {
    "collapsed": false
   },
   "outputs": [
    {
     "data": {
      "image/png": "iVBORw0KGgoAAAANSUhEUgAAAB0AAAAqBAMAAAC9wk0pAAAAMFBMVEX///8AAAAAAAAAAAAAAAAA\nAAAAAAAAAAAAAAAAAAAAAAAAAAAAAAAAAAAAAAAAAAAv3aB7AAAAD3RSTlMAEM3dMnaJmUSrVGYi\nu++0qWpTAAAACXBIWXMAAA7EAAAOxAGVKw4bAAAAx0lEQVQoFWNggAPRsAo4G8QoYOBcgCTAtYGB\nRwGJz3aBgdEAic/xV4BtAxKfYf7vbGQuA9t/RRT+yuZ/DUgC3BMY4h8i8fkOMLD8QuLLA9mzkfhA\neYY7SHwORQbuACQ+g2cZqn+Q5ejHFjIGARUGhv8g8IGGFh9Lu4VsOk8Bw3rk+GD9xcBvgKSA4wWD\nvAISH8hEUc/AwGiGIs2TXIjCZ2DIa0AV4EOOP54DDLzI8cf/EZXPd4GB+Q+Sfu4NDOtR4q+9/AYD\nAwBk2S5YQ6xvRwAAAABJRU5ErkJggg==\n",
      "text/latex": [
       "$$- \\frac{8}{3}$$"
      ],
      "text/plain": [
       "-8/3"
      ]
     },
     "execution_count": 13,
     "metadata": {},
     "output_type": "execute_result"
    }
   ],
   "source": [
    "curl_v = vector.curl(v)\n",
    "surface_integral = sp.integrate(sp.integrate(curl_v.dot(xhat),\n",
    "                                             (y, 0, z)),\n",
    "                                (z, 0, 2)).subs(x, 0)\n",
    "surface_integral"
   ]
  },
  {
   "cell_type": "code",
   "execution_count": 16,
   "metadata": {
    "collapsed": false
   },
   "outputs": [
    {
     "data": {
      "image/png": "iVBORw0KGgoAAAANSUhEUgAAAB0AAAAqBAMAAAC9wk0pAAAAMFBMVEX///8AAAAAAAAAAAAAAAAA\nAAAAAAAAAAAAAAAAAAAAAAAAAAAAAAAAAAAAAAAAAAAv3aB7AAAAD3RSTlMAEM3dMnaJmUSrVGYi\nu++0qWpTAAAACXBIWXMAAA7EAAAOxAGVKw4bAAAAx0lEQVQoFWNggAPRsAo4G8QoYOBcgCTAtYGB\nRwGJz3aBgdEAic/xV4BtAxKfYf7vbGQuA9t/RRT+yuZ/DUgC3BMY4h8i8fkOMLD8QuLLA9mzkfhA\neYY7SHwORQbuACQ+g2cZqn+Q5ejHFjIGARUGhv8g8IGGFh9Lu4VsOk8Bw3rk+GD9xcBvgKSA4wWD\nvAISH8hEUc/AwGiGIs2TXIjCZ2DIa0AV4EOOP54DDLzI8cf/EZXPd4GB+Q+Sfu4NDOtR4q+9/AYD\nAwBk2S5YQ6xvRwAAAABJRU5ErkJggg==\n",
      "text/latex": [
       "$$- \\frac{8}{3}$$"
      ],
      "text/plain": [
       "-8/3"
      ]
     },
     "execution_count": 16,
     "metadata": {},
     "output_type": "execute_result"
    }
   ],
   "source": [
    "horiz = sp.integrate(v.dot(yhat), (y, 0, 2)).subs({x:0, z:0})\n",
    "hyp = sp.integrate(v.dot(zhat-yhat).subs(y, 2-z) , (z, 0, 2)).subs(x, 0)\n",
    "vert = - sp.integrate(v.dot(zhat), (z, 2, 0)).subs({x:0, y:0})\n",
    "\n",
    "line_integral = horiz + hyp + vert\n",
    "line_integral"
   ]
  },
  {
   "cell_type": "code",
   "execution_count": 17,
   "metadata": {
    "collapsed": false
   },
   "outputs": [
    {
     "data": {
      "text/plain": [
       "True"
      ]
     },
     "execution_count": 17,
     "metadata": {},
     "output_type": "execute_result"
    }
   ],
   "source": [
    "line_integral == surface_integral"
   ]
  },
  {
   "cell_type": "code",
   "execution_count": null,
   "metadata": {
    "collapsed": true
   },
   "outputs": [],
   "source": []
  }
 ],
 "metadata": {
  "anaconda-cloud": {},
  "kernelspec": {
   "display_name": "Python [Root]",
   "language": "python",
   "name": "Python [Root]"
  },
  "language_info": {
   "codemirror_mode": {
    "name": "ipython",
    "version": 3
   },
   "file_extension": ".py",
   "mimetype": "text/x-python",
   "name": "python",
   "nbconvert_exporter": "python",
   "pygments_lexer": "ipython3",
<<<<<<< HEAD
   "version": "3.6.2"
=======
   "version": "3.5.2"
>>>>>>> refs/remotes/origin/master
  }
 },
 "nbformat": 4,
 "nbformat_minor": 2
}
