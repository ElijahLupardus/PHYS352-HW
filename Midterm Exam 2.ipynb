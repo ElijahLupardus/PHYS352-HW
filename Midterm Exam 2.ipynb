{
 "cells": [
  {
   "cell_type": "markdown",
   "metadata": {
    "collapsed": true
   },
   "source": [
    "$$Midterm Exam$$\n"
   ]
  },
  {
   "cell_type": "markdown",
   "metadata": {},
   "source": []
  },
  {
   "cell_type": "code",
   "execution_count": null,
   "metadata": {
    "collapsed": true
   },
   "outputs": [],
   "source": []
  },
  {
   "cell_type": "code",
   "execution_count": null,
   "metadata": {
    "collapsed": true
   },
   "outputs": [],
   "source": []
  },
  {
   "cell_type": "code",
   "execution_count": null,
   "metadata": {
    "collapsed": true
   },
   "outputs": [],
   "source": []
  },
  {
   "cell_type": "code",
   "execution_count": null,
   "metadata": {
    "collapsed": true
   },
   "outputs": [],
   "source": []
  },
  {
   "cell_type": "markdown",
   "metadata": {},
   "source": [
    "Problem 3: Hemisphere"
   ]
  },
  {
   "cell_type": "code",
   "execution_count": 6,
   "metadata": {
    "collapsed": false
   },
   "outputs": [
    {
     "data": {
      "image/png": "[encoded data removed]",
      "text/latex": [
       "$$\\frac{R \\sigma}{2 \\epsilon_{0}}$$"
      ],
      "text/plain": [
       "R⋅σ \n",
       "────\n",
       "2⋅ε₀"
      ]
     },
     "execution_count": 6,
     "metadata": {},
     "output_type": "execute_result"
    }
   ],
   "source": [
    "import sympy as sp\n",
    "from sympy import vector\n",
    "sp.init_printing()\n",
    "import math\n",
    "S = vector.CoordSys3D('', vector_names=['r', \"\\\\theta\", r\"\\phi\"],\n",
    "                     variable_names=['r', \"\\\\theta\", r\"\\phi\"])\n",
    "r = S.x\n",
    "theta = S.y\n",
    "phi = S.z\n",
    "rhat = S.i\n",
    "thetahat = S.j\n",
    "phihat = S.k\n",
    "epsilon_0,q,r,pi,sigma,R,theta,z,Q = sp.symbols('epsilon_0 q r pi sigma R theta z Q')\n",
    "V_center = (1/(4*pi*epsilon_0))*(sigma/R)*2*pi*R**2\n",
    "V_center\n"
   ]
  },
  {
   "cell_type": "code",
   "execution_count": 5,
   "metadata": {
    "collapsed": false
   },
   "outputs": [
    {
     "data": {
      "image/png": "[encoded data removed]",
      "text/latex": [
       "$$\\frac{\\sqrt{2} \\sigma{\\left (2 \\pi z^{2} \\right )}}{4 \\pi \\epsilon_{0} z}$$"
      ],
      "text/plain": [
       "    ⎛     2⎞\n",
       "√2⋅σ⎝2⋅π⋅z ⎠\n",
       "────────────\n",
       "  4⋅π⋅ε₀⋅z  "
      ]
     },
     "execution_count": 5,
     "metadata": {},
     "output_type": "execute_result"
    }
   ],
   "source": [
    "V_z = (1/(4*sp.pi*epsilon_0))*sigma(2*sp.pi*z**2)/(z*sp.sqrt(2))*sp.integrate(sp.sin(theta)/(sp.sqrt(1-sp.cos(theta))),(theta,0,sp.pi/2))\n",
    "sp.simplify(V_z)"
   ]
  },
  {
   "cell_type": "code",
   "execution_count": 8,
   "metadata": {
    "collapsed": false
   },
   "outputs": [
    {
     "data": {
      "image/png": "[encoded data removed]",
      "text/latex": [
       "$$\\frac{Q}{4 \\pi \\epsilon_{0} z} \\left(2 \\pi R \\sigma z - \\sqrt{2} \\sigma{\\left (2 \\pi z^{2} \\right )}\\right)$$"
      ],
      "text/plain": [
       "  ⎛                ⎛     2⎞⎞\n",
       "Q⋅⎝2⋅π⋅R⋅σ⋅z - √2⋅σ⎝2⋅π⋅z ⎠⎠\n",
       "────────────────────────────\n",
       "          4⋅π⋅ε₀⋅z          "
      ]
     },
     "execution_count": 8,
     "metadata": {},
     "output_type": "execute_result"
    }
   ],
   "source": [
    "E_z = Q*(V_center-V_z)\n",
    "sp.simplify(E_z)"
   ]
  },
  {
   "cell_type": "markdown",
   "metadata": {},
   "source": [
    "I don't think this is quite exactly right. There is probably a better way to do this problem."
   ]
  }
 ],
 "metadata": {
  "kernelspec": {
   "display_name": "Python [Root]",
   "language": "python",
   "name": "Python [Root]"
  },
  "language_info": {
   "codemirror_mode": {
    "name": "ipython",
    "version": 3
   },
   "file_extension": ".py",
   "mimetype": "text/x-python",
   "name": "python",
   "nbconvert_exporter": "python",
   "pygments_lexer": "ipython3",
   "version": "3.5.2"
  }
 },
 "nbformat": 4,
 "nbformat_minor": 0
}
